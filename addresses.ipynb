{
 "cells": [
  {
   "cell_type": "code",
   "execution_count": null,
   "metadata": {},
   "outputs": [],
   "source": [
    "from validate_adrresses import validate_address\n",
    "import pandas as pd\n",
    "import os\n",
    "from tqdm import tqdm\n",
    "print(os.getcwd())"
   ]
  },
  {
   "cell_type": "code",
   "execution_count": null,
   "metadata": {},
   "outputs": [],
   "source": [
    "df = pd.read_csv('./data/direcciones.csv', sep=';')"
   ]
  },
  {
   "cell_type": "code",
   "execution_count": 3,
   "metadata": {},
   "outputs": [],
   "source": [
    "cols = [col for col in df]\n",
    "col1 = cols[:3]\n",
    "col2 = cols[3:]\n",
    "\n",
    "cols = []\n",
    "for col in col1:\n",
    "    cols.append(col)\n",
    "cols.append(\"NUEVA DIRECCION\")\n",
    "for col in col2:\n",
    "    cols.append(col)"
   ]
  },
  {
   "cell_type": "code",
   "execution_count": 4,
   "metadata": {},
   "outputs": [],
   "source": [
    "df[\"NUEVA DIRECCION\"] = None\n",
    "df.reindex(columns=cols)\n",
    "df = df[df[\"IND TERRITORIOS\"] == 9]"
   ]
  },
  {
   "cell_type": "code",
   "execution_count": null,
   "metadata": {},
   "outputs": [],
   "source": [
    "df"
   ]
  },
  {
   "cell_type": "code",
   "execution_count": 6,
   "metadata": {},
   "outputs": [
    {
     "name": "stdout",
     "output_type": "stream",
     "text": [
      "Error retrieving coordinates for PJE. QUILLAY 1485 POBLACION EL OCALINDO LLEUQUES HACIA EL PRIMER PASAJE ANGOL: Value after * must be an iterable, not Exception\n"
     ]
    },
    {
     "name": "stderr",
     "output_type": "stream",
     "text": [
      "  3%|▎         | 3971/130238 [27:28<10:15:04,  3.42it/s]"
     ]
    },
    {
     "name": "stdout",
     "output_type": "stream",
     "text": [
      "Error retrieving coordinates for PJE. QUILLAY 1485 POBLACION EL CON LOS HACIA EL CERRO PRIMER PASAJE: Value after * must be an iterable, not Exception\n"
     ]
    },
    {
     "name": "stderr",
     "output_type": "stream",
     "text": [
      "  3%|▎         | 3972/130238 [27:29<13:12:33,  2.66it/s]"
     ]
    },
    {
     "name": "stdout",
     "output_type": "stream",
     "text": [
      "Error retrieving coordinates for PJE. QUILLAY 1485 POBLACION EL OCALINDO LLEUQUES EL CERRO PRIMER PASAJE ANGOL: Value after * must be an iterable, not Exception\n"
     ]
    },
    {
     "name": "stderr",
     "output_type": "stream",
     "text": [
      "  3%|▎         | 3973/130238 [27:29<16:09:56,  2.17it/s]"
     ]
    },
    {
     "name": "stdout",
     "output_type": "stream",
     "text": [
      "Error retrieving coordinates for PJE. QUILLAY 1485 POBLACION EL CON LOS LLEUQUES EL CERRO PRIMER ANGOL: Value after * must be an iterable, not Exception\n"
     ]
    },
    {
     "name": "stderr",
     "output_type": "stream",
     "text": [
      "  3%|▎         | 3974/130238 [27:30<19:53:43,  1.76it/s]"
     ]
    },
    {
     "name": "stdout",
     "output_type": "stream",
     "text": [
      "Error retrieving coordinates for PJE. QUILLAY 1485 POBLACION EL OCALINDO LOS LLEUQUES EL CERRO PASAJE ANGOL: Value after * must be an iterable, not Exception\n",
      "Error retrieving coordinates for PJE. QUILLAY 1485 POBLACION EL CON LOS HACIA EL CERRO PRIMER ANGOL: Value after * must be an iterable, not Exception\n"
     ]
    },
    {
     "name": "stderr",
     "output_type": "stream",
     "text": [
      "  3%|▎         | 3976/130238 [27:31<14:42:50,  2.38it/s]"
     ]
    },
    {
     "name": "stdout",
     "output_type": "stream",
     "text": [
      "Error retrieving coordinates for PJE. QUILLAY 1485 POBLACION EL CON LOS LLEUQUES CERRO PRIMER PASAJE ANGOL: Value after * must be an iterable, not Exception\n"
     ]
    },
    {
     "name": "stderr",
     "output_type": "stream",
     "text": [
      "  3%|▎         | 3977/130238 [27:31<15:28:59,  2.27it/s]"
     ]
    },
    {
     "name": "stdout",
     "output_type": "stream",
     "text": [
      "Error retrieving coordinates for PJE. QUILLAY 1485 POBLACION EL OCALINDO LOS LLEUQUES HACIA CERRO PASAJE ANGOL: Value after * must be an iterable, not Exception\n"
     ]
    },
    {
     "name": "stderr",
     "output_type": "stream",
     "text": [
      "  3%|▎         | 3978/130238 [27:32<15:23:01,  2.28it/s]"
     ]
    },
    {
     "name": "stdout",
     "output_type": "stream",
     "text": [
      "Error retrieving coordinates for PJE. QUILLAY 1485 POBLACION EL CON LOS EL CERRO PRIMER PASAJE ANGOL: Value after * must be an iterable, not Exception\n"
     ]
    },
    {
     "name": "stderr",
     "output_type": "stream",
     "text": [
      "  3%|▎         | 3979/130238 [27:32<16:05:49,  2.18it/s]"
     ]
    },
    {
     "name": "stdout",
     "output_type": "stream",
     "text": [
      "Error retrieving coordinates for PJE. QUILLAY 1485 POBLACION EL OCALINDO LOS LLEUQUES HACIA PRIMER PASAJE ANGOL: Value after * must be an iterable, not ConnectTimeout\n",
      "Error retrieving coordinates for PJE. QUILLAY 1485 POBLACION EL CON LOS HACIA EL CERRO PASAJE ANGOL: Value after * must be an iterable, not Exception\n"
     ]
    },
    {
     "name": "stderr",
     "output_type": "stream",
     "text": [
      "  3%|▎         | 3981/130238 [27:33<19:58:43,  1.76it/s]"
     ]
    },
    {
     "name": "stdout",
     "output_type": "stream",
     "text": [
      "Error retrieving coordinates for PJE. QUILLAY 1485 POBLACION EL OCALINDO LOS HACIA EL CERRO PRIMER PASAJE: Value after * must be an iterable, not ConnectTimeout\n",
      "Error retrieving coordinates for PJE. QUILLAY 1485 POBLACION EL CON HACIA EL CERRO PRIMER PASAJE ANGOL: Value after * must be an iterable, not Exception\n",
      "Error retrieving coordinates for PJE. QUILLAY 1485 POBLACION EL OCALINDO LOS HACIA EL PRIMER PASAJE ANGOL: Value after * must be an iterable, not Exception\n"
     ]
    },
    {
     "name": "stderr",
     "output_type": "stream",
     "text": [
      "  3%|▎         | 3985/130238 [27:34<10:57:41,  3.20it/s]"
     ]
    },
    {
     "name": "stdout",
     "output_type": "stream",
     "text": [
      "Error retrieving coordinates for PJE. QUILLAY 1485 POBLACION EL CON LOS LLEUQUES HACIA PRIMER PASAJE ANGOL: Value after * must be an iterable, not Exception\n",
      "Error retrieving coordinates for PJE. QUILLAY 1485 POBLACION EL CON LLEUQUES HACIA EL PRIMER PASAJE ANGOL: Value after * must be an iterable, not Exception\n"
     ]
    },
    {
     "name": "stderr",
     "output_type": "stream",
     "text": [
      "  3%|▎         | 3987/130238 [27:34<9:50:32,  3.56it/s] "
     ]
    },
    {
     "name": "stdout",
     "output_type": "stream",
     "text": [
      "Error retrieving coordinates for PJE. QUILLAY 1485 POBLACION EL LOS LLEUQUES HACIA EL CERRO PRIMER PASAJE: Value after * must be an iterable, not Exception\n",
      "Error retrieving coordinates for PJE. QUILLAY 1485 POBLACION EL OCALINDO LOS HACIA CERRO PRIMER PASAJE ANGOL: Value after * must be an iterable, not ConnectTimeout\n"
     ]
    },
    {
     "name": "stderr",
     "output_type": "stream",
     "text": [
      "  3%|▎         | 3988/130238 [27:35<13:10:05,  2.66it/s]"
     ]
    },
    {
     "name": "stdout",
     "output_type": "stream",
     "text": [
      "Error retrieving coordinates for PJE. QUILLAY 1485 POBLACION EL CON LLEUQUES HACIA EL CERRO PRIMER ANGOL: Value after * must be an iterable, not Exception\n"
     ]
    },
    {
     "name": "stderr",
     "output_type": "stream",
     "text": [
      "  3%|▎         | 3989/130238 [27:36<13:58:32,  2.51it/s]"
     ]
    },
    {
     "name": "stdout",
     "output_type": "stream",
     "text": [
      "Error retrieving coordinates for PJE. QUILLAY 1485 POBLACION EL CON LLEUQUES HACIA CERRO PRIMER PASAJE ANGOL: Value after * must be an iterable, not Exception\n"
     ]
    },
    {
     "name": "stderr",
     "output_type": "stream",
     "text": [
      "  3%|▎         | 3990/130238 [27:36<18:06:01,  1.94it/s]"
     ]
    },
    {
     "name": "stdout",
     "output_type": "stream",
     "text": [
      "Error retrieving coordinates for PJE. QUILLAY 1485 POBLACION EL OCALINDO LLEUQUES HACIA EL CERRO PASAJE ANGOL: Value after * must be an iterable, not ConnectTimeout\n"
     ]
    },
    {
     "name": "stderr",
     "output_type": "stream",
     "text": [
      "  3%|▎         | 3991/130238 [27:37<16:43:13,  2.10it/s]"
     ]
    },
    {
     "name": "stdout",
     "output_type": "stream",
     "text": [
      "Error retrieving coordinates for PJE. QUILLAY 1485 POBLACION EL LOS LLEUQUES EL CERRO PRIMER PASAJE ANGOL: Value after * must be an iterable, not Exception\n"
     ]
    },
    {
     "name": "stderr",
     "output_type": "stream",
     "text": [
      "  3%|▎         | 3992/130238 [27:37<14:11:49,  2.47it/s]"
     ]
    },
    {
     "name": "stdout",
     "output_type": "stream",
     "text": [
      "Error retrieving coordinates for PJE. QUILLAY 1485 POBLACION EL LOS HACIA EL CERRO PRIMER PASAJE ANGOL: Value after * must be an iterable, not Exception\n"
     ]
    },
    {
     "name": "stderr",
     "output_type": "stream",
     "text": [
      "  3%|▎         | 3993/130238 [27:37<13:29:05,  2.60it/s]"
     ]
    },
    {
     "name": "stdout",
     "output_type": "stream",
     "text": [
      "Error retrieving coordinates for PJE. QUILLAY 1485 POBLACION EL CON LOS LLEUQUES HACIA EL CERRO ANGOL: Value after * must be an iterable, not Exception\n"
     ]
    },
    {
     "name": "stderr",
     "output_type": "stream",
     "text": [
      "  3%|▎         | 3994/130238 [27:38<11:47:52,  2.97it/s]"
     ]
    },
    {
     "name": "stdout",
     "output_type": "stream",
     "text": [
      "Error retrieving coordinates for PJE. QUILLAY 1485 POBLACION EL LOS LLEUQUES HACIA EL PRIMER PASAJE ANGOL: Value after * must be an iterable, not Exception\n"
     ]
    },
    {
     "name": "stderr",
     "output_type": "stream",
     "text": [
      "  3%|▎         | 3995/130238 [27:38<12:05:49,  2.90it/s]"
     ]
    },
    {
     "name": "stdout",
     "output_type": "stream",
     "text": [
      "Error retrieving coordinates for PJE. QUILLAY 1485 POBLACION BOSQUE DE OCALINDO CON LOS LLEUQUES HACIA CERRO: Value after * must be an iterable, not Exception\n"
     ]
    },
    {
     "name": "stderr",
     "output_type": "stream",
     "text": [
      "  3%|▎         | 3996/130238 [27:39<15:02:49,  2.33it/s]"
     ]
    },
    {
     "name": "stdout",
     "output_type": "stream",
     "text": [
      "Error retrieving coordinates for PJE. QUILLAY 1485 POBLACION EL CON LLEUQUES HACIA EL CERRO PRIMER PASAJE: Value after * must be an iterable, not Exception\n"
     ]
    },
    {
     "name": "stderr",
     "output_type": "stream",
     "text": [
      "  3%|▎         | 3997/130238 [27:39<14:48:24,  2.37it/s]"
     ]
    },
    {
     "name": "stdout",
     "output_type": "stream",
     "text": [
      "Error retrieving coordinates for PJE. QUILLAY 1485 POBLACION EL LOS LLEUQUES HACIA CERRO PRIMER PASAJE ANGOL: Value after * must be an iterable, not Exception\n"
     ]
    },
    {
     "name": "stderr",
     "output_type": "stream",
     "text": [
      "  3%|▎         | 3998/130238 [27:40<21:49:51,  1.61it/s]"
     ]
    },
    {
     "name": "stdout",
     "output_type": "stream",
     "text": [
      "Error retrieving coordinates for PJE. QUILLAY 1485 POBLACION EL CON LOS LLEUQUES HACIA EL PRIMER PASAJE: Value after * must be an iterable, not ConnectTimeout\n",
      "Error retrieving coordinates for PJE. QUILLAY 1485 POBLACION EL CON LLEUQUES EL CERRO PRIMER PASAJE ANGOL: Value after * must be an iterable, not Exception\n"
     ]
    },
    {
     "name": "stderr",
     "output_type": "stream",
     "text": [
      "  3%|▎         | 4000/130238 [27:41<16:21:07,  2.14it/s]"
     ]
    },
    {
     "name": "stdout",
     "output_type": "stream",
     "text": [
      "Error retrieving coordinates for PJE. QUILLAY 1485 POBLACION BOSQUE DE OCALINDO CON LOS LLEUQUES EL PRIMER: Value after * must be an iterable, not Exception\n"
     ]
    },
    {
     "name": "stderr",
     "output_type": "stream",
     "text": [
      "  3%|▎         | 4003/130238 [27:41<10:47:46,  3.25it/s]"
     ]
    },
    {
     "name": "stdout",
     "output_type": "stream",
     "text": [
      "Error retrieving coordinates for PJE. QUILLAY 1485 POBLACION BOSQUE DE OCALINDO CON LOS LLEUQUES EL CERRO: Value after * must be an iterable, not Exception\n",
      "Error retrieving coordinates for PJE. QUILLAY 1485 POBLACION BOSQUE DE OCALINDO CON LOS LLEUQUES CERRO PRIMER: Value after * must be an iterable, not Exception\n",
      "Error retrieving coordinates for PJE. QUILLAY 1485 POBLACION EL CON LOS LLEUQUES HACIA CERRO PRIMER ANGOL: Value after * must be an iterable, not ConnectTimeout\n"
     ]
    },
    {
     "name": "stderr",
     "output_type": "stream",
     "text": [
      "  3%|▎         | 4004/130238 [27:42<9:53:13,  3.55it/s] "
     ]
    },
    {
     "name": "stdout",
     "output_type": "stream",
     "text": [
      "Error retrieving coordinates for PJE. QUILLAY 1485 POBLACION BOSQUE DE OCALINDO CON LOS LLEUQUES CERRO PASAJE: Value after * must be an iterable, not Exception\n"
     ]
    },
    {
     "name": "stderr",
     "output_type": "stream",
     "text": [
      "  3%|▎         | 4005/130238 [27:42<10:57:25,  3.20it/s]"
     ]
    },
    {
     "name": "stdout",
     "output_type": "stream",
     "text": [
      "Error retrieving coordinates for PJE. QUILLAY 1485 POBLACION EL LOS LLEUQUES HACIA EL CERRO PASAJE ANGOL: Value after * must be an iterable, not Exception\n"
     ]
    },
    {
     "name": "stderr",
     "output_type": "stream",
     "text": [
      "  3%|▎         | 4006/130238 [27:43<14:15:47,  2.46it/s]"
     ]
    },
    {
     "name": "stdout",
     "output_type": "stream",
     "text": [
      "Error retrieving coordinates for PJE. QUILLAY 1485 POBLACION BOSQUE DE OCALINDO CON LOS LLEUQUES PRIMER PASAJE: Value after * must be an iterable, not Exception\n"
     ]
    },
    {
     "name": "stderr",
     "output_type": "stream",
     "text": [
      "  3%|▎         | 4007/130238 [27:43<12:28:16,  2.81it/s]"
     ]
    },
    {
     "name": "stdout",
     "output_type": "stream",
     "text": [
      "Error retrieving coordinates for PJE. QUILLAY 1485 POBLACION BOSQUE DE OCALINDO CON LOS LLEUQUES PASAJE ANGOL: Value after * must be an iterable, not Exception\n"
     ]
    },
    {
     "name": "stderr",
     "output_type": "stream",
     "text": [
      "  3%|▎         | 4008/130238 [27:43<14:31:26,  2.41it/s]"
     ]
    },
    {
     "name": "stdout",
     "output_type": "stream",
     "text": [
      "Error retrieving coordinates for PJE. QUILLAY 1485 POBLACION EL CON LOS LLEUQUES EL CERRO PASAJE ANGOL: Value after * must be an iterable, not ConnectTimeout\n"
     ]
    },
    {
     "name": "stderr",
     "output_type": "stream",
     "text": [
      "  3%|▎         | 4009/130238 [27:44<18:02:32,  1.94it/s]"
     ]
    },
    {
     "name": "stdout",
     "output_type": "stream",
     "text": [
      "Error retrieving coordinates for PJE. QUILLAY 1485 POBLACION EL LLEUQUES HACIA EL CERRO PRIMER PASAJE ANGOL: Value after * must be an iterable, not Exception\n"
     ]
    },
    {
     "name": "stderr",
     "output_type": "stream",
     "text": [
      "  3%|▎         | 4010/130238 [27:44<15:20:52,  2.28it/s]"
     ]
    },
    {
     "name": "stdout",
     "output_type": "stream",
     "text": [
      "Error retrieving coordinates for PJE. QUILLAY 1485 POBLACION BOSQUE DE OCALINDO CON LOS HACIA EL CERRO: Value after * must be an iterable, not Exception\n"
     ]
    },
    {
     "name": "stderr",
     "output_type": "stream",
     "text": [
      "  3%|▎         | 4011/130238 [27:45<18:41:01,  1.88it/s]"
     ]
    },
    {
     "name": "stdout",
     "output_type": "stream",
     "text": [
      "Error retrieving coordinates for PJE. QUILLAY 1485 POBLACION BOSQUE DE OCALINDO CON LOS HACIA EL PRIMER: Value after * must be an iterable, not Exception\n"
     ]
    },
    {
     "name": "stderr",
     "output_type": "stream",
     "text": [
      "  3%|▎         | 4013/130238 [27:46<16:48:47,  2.09it/s]"
     ]
    },
    {
     "name": "stdout",
     "output_type": "stream",
     "text": [
      "Error retrieving coordinates for PJE. QUILLAY 1485 POBLACION EL CON LOS HACIA EL PRIMER PASAJE ANGOL: Value after * must be an iterable, not Exception\n",
      "Error retrieving coordinates for PJE. QUILLAY 1485 POBLACION BOSQUE DE OCALINDO CON LOS LLEUQUES CERRO ANGOL: Value after * must be an iterable, not Exception\n"
     ]
    },
    {
     "name": "stderr",
     "output_type": "stream",
     "text": [
      "  3%|▎         | 4014/130238 [27:46<12:58:13,  2.70it/s]"
     ]
    },
    {
     "name": "stdout",
     "output_type": "stream",
     "text": [
      "Error retrieving coordinates for PJE. QUILLAY 1485 POBLACION BOSQUE DE OCALINDO CON LOS HACIA EL ANGOL: Value after * must be an iterable, not Exception\n",
      "Error retrieving coordinates for PJE. QUILLAY 1485 POBLACION BOSQUE DE OCALINDO CON LOS HACIA CERRO ANGOL: Value after * must be an iterable, not Exception\n"
     ]
    },
    {
     "name": "stderr",
     "output_type": "stream",
     "text": [
      "  3%|▎         | 4016/130238 [27:48<20:06:59,  1.74it/s]"
     ]
    },
    {
     "name": "stdout",
     "output_type": "stream",
     "text": [
      "Error retrieving coordinates for PJE. QUILLAY 1485 POBLACION EL CON LOS HACIA CERRO PRIMER PASAJE ANGOL: Value after * must be an iterable, not ConnectTimeout\n"
     ]
    },
    {
     "name": "stderr",
     "output_type": "stream",
     "text": [
      "  3%|▎         | 4018/130238 [27:49<15:54:10,  2.20it/s]"
     ]
    },
    {
     "name": "stdout",
     "output_type": "stream",
     "text": [
      "Error retrieving coordinates for PJE. QUILLAY 1485 POBLACION BOSQUE DE OCALINDO CON LOS HACIA CERRO PASAJE: Value after * must be an iterable, not Exception\n",
      "Error retrieving coordinates for PJE. QUILLAY 1485 POBLACION BOSQUE DE OCALINDO CON LOS EL CERRO PRIMER: Value after * must be an iterable, not Exception\n"
     ]
    },
    {
     "name": "stderr",
     "output_type": "stream",
     "text": [
      "  3%|▎         | 4020/130238 [27:49<11:02:03,  3.18it/s]"
     ]
    },
    {
     "name": "stdout",
     "output_type": "stream",
     "text": [
      "Error retrieving coordinates for PJE. QUILLAY 1485 POBLACION BOSQUE DE OCALINDO CON LOS HACIA PRIMER PASAJE: Value after * must be an iterable, not Exception\n",
      "Error retrieving coordinates for PJE. QUILLAY 1485 POBLACION EL CON LLEUQUES HACIA EL CERRO PASAJE ANGOL: Value after * must be an iterable, not ConnectTimeout\n"
     ]
    },
    {
     "name": "stderr",
     "output_type": "stream",
     "text": [
      "  3%|▎         | 4021/130238 [27:49<9:58:06,  3.52it/s] "
     ]
    },
    {
     "name": "stdout",
     "output_type": "stream",
     "text": [
      "Error retrieving coordinates for PJE. QUILLAY 1485 POBLACION BOSQUE DE OCALINDO CON LOS HACIA CERRO PRIMER: Value after * must be an iterable, not Exception\n"
     ]
    },
    {
     "name": "stderr",
     "output_type": "stream",
     "text": [
      "  3%|▎         | 4022/130238 [27:49<9:31:23,  3.68it/s]"
     ]
    },
    {
     "name": "stdout",
     "output_type": "stream",
     "text": [
      "Error retrieving coordinates for PJE. QUILLAY 1485 POBLACION EL LOS LLEUQUES HACIA EL CERRO PRIMER ANGOL: Value after * must be an iterable, not Exception\n"
     ]
    },
    {
     "name": "stderr",
     "output_type": "stream",
     "text": [
      "  3%|▎         | 4023/130238 [27:50<9:40:11,  3.63it/s]"
     ]
    },
    {
     "name": "stdout",
     "output_type": "stream",
     "text": [
      "Error retrieving coordinates for PJE. QUILLAY 1485 POBLACION BOSQUE DE OCALINDO CON LOS EL CERRO ANGOL: Value after * must be an iterable, not Exception\n"
     ]
    },
    {
     "name": "stderr",
     "output_type": "stream",
     "text": [
      "  3%|▎         | 4024/130238 [27:50<14:21:04,  2.44it/s]"
     ]
    },
    {
     "name": "stdout",
     "output_type": "stream",
     "text": [
      "Error retrieving coordinates for PJE. QUILLAY 1485 POBLACION BOSQUE DE OCALINDO CON LOS EL PASAJE ANGOL: Value after * must be an iterable, not Exception\n"
     ]
    },
    {
     "name": "stderr",
     "output_type": "stream",
     "text": [
      "  3%|▎         | 4025/130238 [27:51<13:58:12,  2.51it/s]"
     ]
    },
    {
     "name": "stdout",
     "output_type": "stream",
     "text": [
      "Error retrieving coordinates for PJE. QUILLAY 1485 POBLACION BOSQUE DE OCALINDO CON LOS EL CERRO PASAJE: Value after * must be an iterable, not Exception\n"
     ]
    },
    {
     "name": "stderr",
     "output_type": "stream",
     "text": [
      "  3%|▎         | 4026/130238 [27:53<28:54:37,  1.21it/s]"
     ]
    },
    {
     "name": "stdout",
     "output_type": "stream",
     "text": [
      "Error retrieving coordinates for PJE. QUILLAY 1485 POBLACION BOSQUE DE OCALINDO CON LOS CERRO PRIMER ANGOL: Value after * must be an iterable, not Exception\n"
     ]
    },
    {
     "name": "stderr",
     "output_type": "stream",
     "text": [
      "  3%|▎         | 4027/130238 [27:53<24:26:59,  1.43it/s]"
     ]
    },
    {
     "name": "stdout",
     "output_type": "stream",
     "text": [
      "Error retrieving coordinates for PJE. QUILLAY 1485 POBLACION BOSQUE DE OCALINDO CON LOS HACIA EL PASAJE: Value after * must be an iterable, not Exception\n"
     ]
    },
    {
     "name": "stderr",
     "output_type": "stream",
     "text": [
      "  3%|▎         | 4028/130238 [27:54<23:18:42,  1.50it/s]"
     ]
    },
    {
     "name": "stdout",
     "output_type": "stream",
     "text": [
      "Error retrieving coordinates for PJE. QUILLAY 1485 POBLACION BOSQUE DE OCALINDO CON LOS EL PRIMER ANGOL: Value after * must be an iterable, not Exception\n",
      "Error retrieving coordinates for PJE. QUILLAY 1485 POBLACION BOSQUE DE OCALINDO CON LOS PRIMER PASAJE ANGOL: Value after * must be an iterable, not Exception\n"
     ]
    },
    {
     "name": "stderr",
     "output_type": "stream",
     "text": [
      "  3%|▎         | 4030/130238 [27:54<15:29:58,  2.26it/s]"
     ]
    },
    {
     "name": "stdout",
     "output_type": "stream",
     "text": [
      "Error retrieving coordinates for PJE. QUILLAY 1485 POBLACION BOSQUE DE OCALINDO CON LOS HACIA PRIMER ANGOL: Value after * must be an iterable, not Exception\n"
     ]
    },
    {
     "name": "stderr",
     "output_type": "stream",
     "text": [
      "  3%|▎         | 4031/130238 [27:54<13:51:35,  2.53it/s]"
     ]
    },
    {
     "name": "stdout",
     "output_type": "stream",
     "text": [
      "Error retrieving coordinates for PJE. QUILLAY 1485 POBLACION BOSQUE DE OCALINDO CON LOS CERRO PASAJE ANGOL: Value after * must be an iterable, not Exception\n"
     ]
    },
    {
     "name": "stderr",
     "output_type": "stream",
     "text": [
      "  3%|▎         | 4032/130238 [27:55<13:28:13,  2.60it/s]"
     ]
    },
    {
     "name": "stdout",
     "output_type": "stream",
     "text": [
      "Error retrieving coordinates for PJE. QUILLAY 1485 POBLACION BOSQUE DE OCALINDO CON LOS LLEUQUES HACIA EL: Value after * must be an iterable, not ConnectTimeout\n"
     ]
    },
    {
     "name": "stderr",
     "output_type": "stream",
     "text": [
      "  3%|▎         | 4033/130238 [27:55<12:07:07,  2.89it/s]"
     ]
    },
    {
     "name": "stdout",
     "output_type": "stream",
     "text": [
      "Error retrieving coordinates for PJE. QUILLAY 1485 POBLACION BOSQUE DE OCALINDO CON LLEUQUES HACIA EL PASAJE: Value after * must be an iterable, not Exception\n",
      "Error retrieving coordinates for PJE. QUILLAY 1485 POBLACION BOSQUE DE OCALINDO CON LLEUQUES HACIA PRIMER PASAJE: Value after * must be an iterable, not Exception\n"
     ]
    },
    {
     "name": "stderr",
     "output_type": "stream",
     "text": [
      "  3%|▎         | 4035/130238 [27:56<14:58:14,  2.34it/s]"
     ]
    },
    {
     "name": "stdout",
     "output_type": "stream",
     "text": [
      "Error retrieving coordinates for PJE. QUILLAY 1485 POBLACION BOSQUE DE OCALINDO CON LLEUQUES HACIA PRIMER ANGOL: Value after * must be an iterable, not Exception\n"
     ]
    },
    {
     "name": "stderr",
     "output_type": "stream",
     "text": [
      "  3%|▎         | 4036/130238 [27:56<13:14:28,  2.65it/s]"
     ]
    },
    {
     "name": "stdout",
     "output_type": "stream",
     "text": [
      "Error retrieving coordinates for PJE. QUILLAY 1485 POBLACION BOSQUE DE OCALINDO CON LLEUQUES HACIA CERRO PRIMER: Value after * must be an iterable, not Exception\n",
      "Error retrieving coordinates for PJE. QUILLAY 1485 POBLACION BOSQUE DE OCALINDO CON LOS LLEUQUES HACIA PRIMER: Value after * must be an iterable, not ConnectTimeout\n",
      "Error retrieving coordinates for PJE. QUILLAY 1485 POBLACION BOSQUE DE OCALINDO CON LOS LLEUQUES HACIA PASAJE: Value after * must be an iterable, not ConnectTimeout\n"
     ]
    },
    {
     "name": "stderr",
     "output_type": "stream",
     "text": [
      "  3%|▎         | 4040/130238 [27:57<9:59:00,  3.51it/s] "
     ]
    },
    {
     "name": "stdout",
     "output_type": "stream",
     "text": [
      "Error retrieving coordinates for PJE. QUILLAY 1485 POBLACION BOSQUE DE OCALINDO CON LOS LLEUQUES EL PASAJE: Value after * must be an iterable, not ConnectTimeout\n",
      "Error retrieving coordinates for PJE. QUILLAY 1485 POBLACION BOSQUE DE OCALINDO CON LOS LLEUQUES EL ANGOL: Value after * must be an iterable, not ConnectTimeout\n"
     ]
    },
    {
     "name": "stderr",
     "output_type": "stream",
     "text": [
      "  3%|▎         | 4041/130238 [27:57<9:15:28,  3.79it/s]"
     ]
    },
    {
     "name": "stdout",
     "output_type": "stream",
     "text": [
      "Error retrieving coordinates for PJE. QUILLAY 1485 POBLACION BOSQUE DE OCALINDO CON LLEUQUES EL CERRO PRIMER: Value after * must be an iterable, not Exception\n"
     ]
    },
    {
     "name": "stderr",
     "output_type": "stream",
     "text": [
      "  3%|▎         | 4043/130238 [27:58<8:24:51,  4.17it/s]"
     ]
    },
    {
     "name": "stdout",
     "output_type": "stream",
     "text": [
      "Error retrieving coordinates for PJE. QUILLAY 1485 POBLACION BOSQUE DE OCALINDO CON LLEUQUES HACIA PASAJE ANGOL: Value after * must be an iterable, not Exception\n",
      "Error retrieving coordinates for PJE. QUILLAY 1485 POBLACION BOSQUE DE OCALINDO CON LLEUQUES EL CERRO PASAJE: Value after * must be an iterable, not Exception\n"
     ]
    },
    {
     "name": "stderr",
     "output_type": "stream",
     "text": [
      "  3%|▎         | 4044/130238 [27:58<7:08:04,  4.91it/s]"
     ]
    },
    {
     "name": "stdout",
     "output_type": "stream",
     "text": [
      "Error retrieving coordinates for PJE. QUILLAY 1485 POBLACION BOSQUE DE OCALINDO CON LLEUQUES EL CERRO ANGOL: Value after * must be an iterable, not Exception\n"
     ]
    },
    {
     "name": "stderr",
     "output_type": "stream",
     "text": [
      "  3%|▎         | 4046/130238 [28:00<16:48:44,  2.08it/s]"
     ]
    },
    {
     "name": "stdout",
     "output_type": "stream",
     "text": [
      "Error retrieving coordinates for PJE. QUILLAY 1485 POBLACION BOSQUE DE OCALINDO CON LOS LLEUQUES HACIA ANGOL: Value after * must be an iterable, not Exception\n",
      "Error retrieving coordinates for PJE. QUILLAY 1485 POBLACION BOSQUE DE OCALINDO CON LOS LLEUQUES PRIMER ANGOL: Value after * must be an iterable, not ConnectTimeout\n",
      "Error retrieving coordinates for PJE. QUILLAY 1485 POBLACION BOSQUE DE OCALINDO CON LLEUQUES EL PRIMER PASAJE: Value after * must be an iterable, not Exception\n"
     ]
    },
    {
     "name": "stderr",
     "output_type": "stream",
     "text": [
      "  3%|▎         | 4048/130238 [28:00<13:07:01,  2.67it/s]"
     ]
    },
    {
     "name": "stdout",
     "output_type": "stream",
     "text": [
      "Error retrieving coordinates for PJE. QUILLAY 1485 POBLACION BOSQUE DE OCALINDO CON LLEUQUES EL PRIMER ANGOL: Value after * must be an iterable, not Exception\n"
     ]
    },
    {
     "name": "stderr",
     "output_type": "stream",
     "text": [
      "  3%|▎         | 4050/130238 [28:01<11:47:23,  2.97it/s]"
     ]
    },
    {
     "name": "stdout",
     "output_type": "stream",
     "text": [
      "Error retrieving coordinates for PJE. QUILLAY 1485 POBLACION BOSQUE DE OCALINDO CON LLEUQUES HACIA EL CERRO: Value after * must be an iterable, not Exception\n",
      "Error retrieving coordinates for PJE. QUILLAY 1485 POBLACION BOSQUE DE OCALINDO CON LLEUQUES CERRO PRIMER ANGOL: Value after * must be an iterable, not Exception\n"
     ]
    },
    {
     "name": "stderr",
     "output_type": "stream",
     "text": [
      "  3%|▎         | 4051/130238 [28:01<9:34:18,  3.66it/s] "
     ]
    },
    {
     "name": "stdout",
     "output_type": "stream",
     "text": [
      "Error retrieving coordinates for PJE. QUILLAY 1485 POBLACION BOSQUE DE OCALINDO CON LLEUQUES EL PASAJE ANGOL: Value after * must be an iterable, not Exception\n"
     ]
    },
    {
     "name": "stderr",
     "output_type": "stream",
     "text": [
      "  3%|▎         | 4052/130238 [28:02<14:51:45,  2.36it/s]"
     ]
    },
    {
     "name": "stdout",
     "output_type": "stream",
     "text": [
      "Error retrieving coordinates for PJE. QUILLAY 1485 POBLACION BOSQUE DE OCALINDO CON LLEUQUES CERRO PASAJE ANGOL: Value after * must be an iterable, not Exception\n"
     ]
    },
    {
     "name": "stderr",
     "output_type": "stream",
     "text": [
      "  3%|▎         | 4053/130238 [28:02<15:15:00,  2.30it/s]"
     ]
    },
    {
     "name": "stdout",
     "output_type": "stream",
     "text": [
      "Error retrieving coordinates for PJE. QUILLAY 1485 POBLACION BOSQUE DE OCALINDO CON HACIA EL PRIMER ANGOL: Value after * must be an iterable, not Exception\n"
     ]
    },
    {
     "name": "stderr",
     "output_type": "stream",
     "text": [
      "  3%|▎         | 4054/130238 [28:03<17:11:28,  2.04it/s]"
     ]
    },
    {
     "name": "stdout",
     "output_type": "stream",
     "text": [
      "Error retrieving coordinates for PJE. QUILLAY 1485 POBLACION BOSQUE DE OCALINDO CON LLEUQUES HACIA EL ANGOL: Value after * must be an iterable, not Exception\n",
      "Error retrieving coordinates for PJE. QUILLAY 1485 POBLACION BOSQUE DE OCALINDO CON HACIA EL CERRO PASAJE: Value after * must be an iterable, not Exception\n"
     ]
    },
    {
     "name": "stderr",
     "output_type": "stream",
     "text": [
      "  3%|▎         | 4056/130238 [28:03<11:52:15,  2.95it/s]"
     ]
    },
    {
     "name": "stdout",
     "output_type": "stream",
     "text": [
      "Error retrieving coordinates for PJE. QUILLAY 1485 POBLACION BOSQUE DE OCALINDO CON HACIA CERRO PRIMER ANGOL: Value after * must be an iterable, not Exception\n"
     ]
    },
    {
     "name": "stderr",
     "output_type": "stream",
     "text": [
      "  3%|▎         | 4057/130238 [28:04<17:08:33,  2.04it/s]"
     ]
    },
    {
     "name": "stdout",
     "output_type": "stream",
     "text": [
      "Error retrieving coordinates for PJE. QUILLAY 1485 POBLACION BOSQUE DE OCALINDO CON LOS HACIA PASAJE ANGOL: Value after * must be an iterable, not ConnectTimeout\n"
     ]
    },
    {
     "name": "stderr",
     "output_type": "stream",
     "text": [
      "  3%|▎         | 4058/130238 [28:05<18:01:59,  1.94it/s]"
     ]
    },
    {
     "name": "stdout",
     "output_type": "stream",
     "text": [
      "Error retrieving coordinates for PJE. QUILLAY 1485 POBLACION BOSQUE DE OCALINDO CON HACIA PRIMER PASAJE ANGOL: Value after * must be an iterable, not Exception\n"
     ]
    },
    {
     "name": "stderr",
     "output_type": "stream",
     "text": [
      "  3%|▎         | 4059/130238 [28:05<21:46:45,  1.61it/s]"
     ]
    },
    {
     "name": "stdout",
     "output_type": "stream",
     "text": [
      "Error retrieving coordinates for PJE. QUILLAY 1485 POBLACION BOSQUE DE OCALINDO CON HACIA CERRO PASAJE ANGOL: Value after * must be an iterable, not Exception\n",
      "Error retrieving coordinates for PJE. QUILLAY 1485 POBLACION BOSQUE DE OCALINDO CON LOS EL PRIMER PASAJE: Value after * must be an iterable, not ConnectTimeout\n"
     ]
    },
    {
     "name": "stderr",
     "output_type": "stream",
     "text": [
      "  3%|▎         | 4061/130238 [28:06<16:35:36,  2.11it/s]"
     ]
    },
    {
     "name": "stdout",
     "output_type": "stream",
     "text": [
      "Error retrieving coordinates for PJE. QUILLAY 1485 POBLACION BOSQUE DE OCALINDO CON EL PRIMER PASAJE ANGOL: Value after * must be an iterable, not Exception\n",
      "Error retrieving coordinates for PJE. QUILLAY 1485 POBLACION BOSQUE DE OCALINDO CON EL CERRO PRIMER PASAJE: Value after * must be an iterable, not Exception\n"
     ]
    },
    {
     "name": "stderr",
     "output_type": "stream",
     "text": [
      "  3%|▎         | 4063/130238 [28:06<12:09:36,  2.88it/s]"
     ]
    },
    {
     "name": "stdout",
     "output_type": "stream",
     "text": [
      "Error retrieving coordinates for PJE. QUILLAY 1485 POBLACION BOSQUE DE OCALINDO CON EL CERRO PRIMER ANGOL: Value after * must be an iterable, not Exception\n",
      "Error retrieving coordinates for PJE. QUILLAY 1485 POBLACION BOSQUE DE OCALINDO CON EL CERRO PASAJE ANGOL: Value after * must be an iterable, not Exception\n"
     ]
    },
    {
     "name": "stderr",
     "output_type": "stream",
     "text": [
      "  3%|▎         | 4066/130238 [28:07<10:11:00,  3.44it/s]"
     ]
    },
    {
     "name": "stdout",
     "output_type": "stream",
     "text": [
      "Error retrieving coordinates for PJE. QUILLAY 1485 POBLACION BOSQUE DE OCALINDO LOS LLEUQUES HACIA EL PRIMER: Value after * must be an iterable, not Exception\n",
      "Error retrieving coordinates for PJE. QUILLAY 1485 POBLACION BOSQUE DE OCALINDO CON LOS CERRO PRIMER PASAJE: Value after * must be an iterable, not ConnectTimeout\n"
     ]
    },
    {
     "name": "stderr",
     "output_type": "stream",
     "text": [
      "  3%|▎         | 4067/130238 [28:07<10:19:27,  3.39it/s]"
     ]
    },
    {
     "name": "stdout",
     "output_type": "stream",
     "text": [
      "Error retrieving coordinates for PJE. QUILLAY 1485 POBLACION BOSQUE DE OCALINDO CON LLEUQUES HACIA EL PRIMER: Value after * must be an iterable, not Exception\n"
     ]
    },
    {
     "name": "stderr",
     "output_type": "stream",
     "text": [
      "  3%|▎         | 4068/130238 [28:08<11:04:56,  3.16it/s]"
     ]
    },
    {
     "name": "stdout",
     "output_type": "stream",
     "text": [
      "Error retrieving coordinates for PJE. QUILLAY 1485 POBLACION BOSQUE DE OCALINDO LOS LLEUQUES HACIA EL ANGOL: Value after * must be an iterable, not Exception\n"
     ]
    },
    {
     "name": "stderr",
     "output_type": "stream",
     "text": [
      "  3%|▎         | 4070/130238 [28:09<14:34:56,  2.40it/s]"
     ]
    },
    {
     "name": "stdout",
     "output_type": "stream",
     "text": [
      "Error retrieving coordinates for PJE. QUILLAY 1485 POBLACION BOSQUE DE OCALINDO LOS LLEUQUES HACIA CERRO PASAJE: Value after * must be an iterable, not Exception\n",
      "Error retrieving coordinates for PJE. QUILLAY 1485 POBLACION BOSQUE DE OCALINDO LOS LLEUQUES HACIA CERRO ANGOL: Value after * must be an iterable, not Exception\n"
     ]
    },
    {
     "name": "stderr",
     "output_type": "stream",
     "text": [
      "  3%|▎         | 4071/130238 [28:09<12:30:34,  2.80it/s]"
     ]
    },
    {
     "name": "stdout",
     "output_type": "stream",
     "text": [
      "Error retrieving coordinates for PJE. QUILLAY 1485 POBLACION BOSQUE DE OCALINDO LOS LLEUQUES HACIA EL CERRO: Value after * must be an iterable, not Exception\n"
     ]
    },
    {
     "name": "stderr",
     "output_type": "stream",
     "text": [
      "  3%|▎         | 4072/130238 [28:10<14:32:35,  2.41it/s]"
     ]
    },
    {
     "name": "stdout",
     "output_type": "stream",
     "text": [
      "Error retrieving coordinates for PJE. QUILLAY 1485 POBLACION BOSQUE DE OCALINDO LOS LLEUQUES HACIA EL PASAJE: Value after * must be an iterable, not Exception\n"
     ]
    },
    {
     "name": "stderr",
     "output_type": "stream",
     "text": [
      "  3%|▎         | 4076/130238 [28:11<12:56:01,  2.71it/s]"
     ]
    },
    {
     "name": "stdout",
     "output_type": "stream",
     "text": [
      "Error retrieving coordinates for PJE. QUILLAY 1485 POBLACION BOSQUE DE OCALINDO CON LLEUQUES HACIA CERRO PASAJE: Value after * must be an iterable, not ConnectTimeout\n",
      "Error retrieving coordinates for PJE. QUILLAY 1485 POBLACION BOSQUE DE OCALINDO LOS LLEUQUES HACIA PASAJE ANGOL: Value after * must be an iterable, not Exception\n",
      "Error retrieving coordinates for PJE. QUILLAY 1485 POBLACION BOSQUE DE OCALINDO LOS LLEUQUES HACIA CERRO PRIMER: Value after * must be an iterable, not Exception\n",
      "Error retrieving coordinates for PJE. QUILLAY 1485 POBLACION BOSQUE DE OCALINDO LOS LLEUQUES HACIA PRIMER ANGOL: Value after * must be an iterable, not Exception\n",
      "Error retrieving coordinates for PJE. QUILLAY 1485 POBLACION BOSQUE DE OCALINDO CON LLEUQUES HACIA CERRO ANGOL: Value after * must be an iterable, not ConnectTimeout\n"
     ]
    },
    {
     "name": "stderr",
     "output_type": "stream",
     "text": [
      "  3%|▎         | 4078/130238 [28:13<14:45:34,  2.37it/s]"
     ]
    },
    {
     "name": "stdout",
     "output_type": "stream",
     "text": [
      "Error retrieving coordinates for PJE. QUILLAY 1485 POBLACION BOSQUE DE OCALINDO LOS LLEUQUES EL CERRO ANGOL: Value after * must be an iterable, not Exception\n"
     ]
    },
    {
     "name": "stderr",
     "output_type": "stream",
     "text": [
      "  3%|▎         | 4079/130238 [28:13<14:49:23,  2.36it/s]"
     ]
    },
    {
     "name": "stdout",
     "output_type": "stream",
     "text": [
      "Error retrieving coordinates for PJE. QUILLAY 1485 POBLACION BOSQUE DE OCALINDO LOS LLEUQUES EL PRIMER PASAJE: Value after * must be an iterable, not Exception\n",
      "Error retrieving coordinates for PJE. QUILLAY 1485 POBLACION BOSQUE DE OCALINDO LOS LLEUQUES CERRO PRIMER PASAJE: Value after * must be an iterable, not Exception\n"
     ]
    },
    {
     "name": "stderr",
     "output_type": "stream",
     "text": [
      "  3%|▎         | 4081/130238 [28:13<11:09:34,  3.14it/s]"
     ]
    },
    {
     "name": "stdout",
     "output_type": "stream",
     "text": [
      "Error retrieving coordinates for PJE. QUILLAY 1485 POBLACION BOSQUE DE OCALINDO LOS LLEUQUES EL PRIMER ANGOL: Value after * must be an iterable, not Exception\n"
     ]
    },
    {
     "name": "stderr",
     "output_type": "stream",
     "text": [
      "  3%|▎         | 4082/130238 [28:14<14:40:01,  2.39it/s]"
     ]
    },
    {
     "name": "stdout",
     "output_type": "stream",
     "text": [
      "Error retrieving coordinates for PJE. QUILLAY 1485 POBLACION BOSQUE DE OCALINDO LOS LLEUQUES PRIMER PASAJE ANGOL: Value after * must be an iterable, not Exception\n"
     ]
    },
    {
     "name": "stderr",
     "output_type": "stream",
     "text": [
      "  3%|▎         | 4083/130238 [28:15<22:16:04,  1.57it/s]"
     ]
    },
    {
     "name": "stdout",
     "output_type": "stream",
     "text": [
      "Error retrieving coordinates for PJE. QUILLAY 1485 POBLACION BOSQUE DE OCALINDO LOS LLEUQUES CERRO PASAJE ANGOL: Value after * must be an iterable, not Exception\n"
     ]
    },
    {
     "name": "stderr",
     "output_type": "stream",
     "text": [
      "  3%|▎         | 4085/130238 [28:16<18:27:19,  1.90it/s]"
     ]
    },
    {
     "name": "stdout",
     "output_type": "stream",
     "text": [
      "Error retrieving coordinates for PJE. QUILLAY 1485 POBLACION BOSQUE DE OCALINDO LOS HACIA EL CERRO PRIMER: Value after * must be an iterable, not Exception\n",
      "Error retrieving coordinates for PJE. QUILLAY 1485 POBLACION BOSQUE DE OCALINDO LOS HACIA EL CERRO ANGOL: Value after * must be an iterable, not Exception\n"
     ]
    },
    {
     "name": "stderr",
     "output_type": "stream",
     "text": [
      "  3%|▎         | 4086/130238 [28:17<15:46:39,  2.22it/s]"
     ]
    },
    {
     "name": "stdout",
     "output_type": "stream",
     "text": [
      "Error retrieving coordinates for PJE. QUILLAY 1485 POBLACION BOSQUE DE OCALINDO CON LLEUQUES CERRO PRIMER PASAJE: Value after * must be an iterable, not ConnectTimeout\n"
     ]
    },
    {
     "name": "stderr",
     "output_type": "stream",
     "text": [
      "  3%|▎         | 4088/130238 [28:18<15:41:56,  2.23it/s]"
     ]
    },
    {
     "name": "stdout",
     "output_type": "stream",
     "text": [
      "Error retrieving coordinates for PJE. QUILLAY 1485 POBLACION BOSQUE DE OCALINDO CON LLEUQUES PRIMER PASAJE ANGOL: Value after * must be an iterable, not ConnectTimeout\n",
      "Error retrieving coordinates for PJE. QUILLAY 1485 POBLACION BOSQUE DE OCALINDO CON HACIA EL CERRO PRIMER: Value after * must be an iterable, not ConnectTimeout\n"
     ]
    },
    {
     "name": "stderr",
     "output_type": "stream",
     "text": [
      "  3%|▎         | 4089/130238 [28:19<25:40:10,  1.37it/s]"
     ]
    },
    {
     "name": "stdout",
     "output_type": "stream",
     "text": [
      "Error retrieving coordinates for PJE. QUILLAY 1485 POBLACION BOSQUE DE OCALINDO LOS HACIA EL PRIMER ANGOL: Value after * must be an iterable, not Exception\n"
     ]
    },
    {
     "name": "stderr",
     "output_type": "stream",
     "text": [
      "  3%|▎         | 4093/130238 [28:20<10:58:23,  3.19it/s]"
     ]
    },
    {
     "name": "stdout",
     "output_type": "stream",
     "text": [
      "Error retrieving coordinates for PJE. QUILLAY 1485 POBLACION BOSQUE DE OCALINDO CON HACIA EL CERRO ANGOL: Value after * must be an iterable, not Exception\n",
      "Error retrieving coordinates for PJE. QUILLAY 1485 POBLACION BOSQUE DE OCALINDO CON HACIA EL PRIMER PASAJE: Value after * must be an iterable, not Exception\n",
      "Error retrieving coordinates for PJE. QUILLAY 1485 POBLACION BOSQUE DE OCALINDO LOS EL CERRO PASAJE ANGOL: Value after * must be an iterable, not Exception\n",
      "Error retrieving coordinates for PJE. QUILLAY 1485 POBLACION BOSQUE DE OCALINDO CON HACIA CERRO PRIMER PASAJE: Value after * must be an iterable, not ConnectTimeout\n"
     ]
    },
    {
     "name": "stderr",
     "output_type": "stream",
     "text": [
      "  3%|▎         | 4095/130238 [28:20<8:39:31,  4.05it/s] "
     ]
    },
    {
     "name": "stdout",
     "output_type": "stream",
     "text": [
      "Error retrieving coordinates for PJE. QUILLAY 1485 POBLACION BOSQUE DE OCALINDO CON HACIA EL PASAJE ANGOL: Value after * must be an iterable, not Exception\n",
      "Error retrieving coordinates for PJE. QUILLAY 1485 POBLACION BOSQUE DE OCALINDO LOS EL CERRO PRIMER PASAJE: Value after * must be an iterable, not Exception\n",
      "Error retrieving coordinates for PJE. QUILLAY 1485 POBLACION BOSQUE DE OCALINDO LOS HACIA EL PRIMER PASAJE: Value after * must be an iterable, not Exception\n"
     ]
    },
    {
     "name": "stderr",
     "output_type": "stream",
     "text": [
      "  3%|▎         | 4097/130238 [28:21<13:30:21,  2.59it/s]"
     ]
    },
    {
     "name": "stdout",
     "output_type": "stream",
     "text": [
      "Error retrieving coordinates for PJE. QUILLAY 1485 POBLACION BOSQUE DE OCALINDO LOS LLEUQUES CERRO PRIMER ANGOL: Value after * must be an iterable, not Exception\n"
     ]
    },
    {
     "name": "stderr",
     "output_type": "stream",
     "text": [
      "  3%|▎         | 4098/130238 [28:22<14:53:09,  2.35it/s]"
     ]
    },
    {
     "name": "stdout",
     "output_type": "stream",
     "text": [
      "Error retrieving coordinates for PJE. QUILLAY 1485 POBLACION BOSQUE DE OCALINDO LOS EL PRIMER PASAJE ANGOL: Value after * must be an iterable, not Exception\n"
     ]
    },
    {
     "name": "stderr",
     "output_type": "stream",
     "text": [
      "  3%|▎         | 4099/130238 [28:23<18:04:57,  1.94it/s]"
     ]
    },
    {
     "name": "stdout",
     "output_type": "stream",
     "text": [
      "Error retrieving coordinates for PJE. QUILLAY 1485 POBLACION BOSQUE DE OCALINDO LLEUQUES HACIA EL CERRO PRIMER: Value after * must be an iterable, not Exception\n"
     ]
    },
    {
     "name": "stderr",
     "output_type": "stream",
     "text": [
      "  3%|▎         | 4100/130238 [28:23<15:45:39,  2.22it/s]"
     ]
    },
    {
     "name": "stdout",
     "output_type": "stream",
     "text": [
      "Error retrieving coordinates for PJE. QUILLAY 1485 POBLACION BOSQUE DE OCALINDO LOS HACIA CERRO PRIMER PASAJE: Value after * must be an iterable, not Exception\n"
     ]
    },
    {
     "name": "stderr",
     "output_type": "stream",
     "text": [
      "  3%|▎         | 4101/130238 [28:23<14:54:53,  2.35it/s]"
     ]
    },
    {
     "name": "stdout",
     "output_type": "stream",
     "text": [
      "Error retrieving coordinates for PJE. QUILLAY 1485 POBLACION BOSQUE DE OCALINDO CON CERRO PRIMER PASAJE ANGOL: Value after * must be an iterable, not Exception\n"
     ]
    },
    {
     "name": "stderr",
     "output_type": "stream",
     "text": [
      "  3%|▎         | 4103/130238 [28:25<18:29:37,  1.89it/s]"
     ]
    },
    {
     "name": "stdout",
     "output_type": "stream",
     "text": [
      "Error retrieving coordinates for PJE. QUILLAY 1485 POBLACION BOSQUE DE OCALINDO LOS LLEUQUES HACIA PRIMER PASAJE: Value after * must be an iterable, not Exception\n",
      "Error retrieving coordinates for PJE. QUILLAY 1485 POBLACION BOSQUE DE OCALINDO LOS HACIA EL PASAJE ANGOL: Value after * must be an iterable, not Exception\n"
     ]
    },
    {
     "name": "stderr",
     "output_type": "stream",
     "text": [
      "  3%|▎         | 4104/130238 [28:25<14:41:01,  2.39it/s]"
     ]
    },
    {
     "name": "stdout",
     "output_type": "stream",
     "text": [
      "Error retrieving coordinates for PJE. QUILLAY 1485 POBLACION BOSQUE DE OCALINDO LOS HACIA EL CERRO PASAJE: Value after * must be an iterable, not Exception\n"
     ]
    },
    {
     "name": "stderr",
     "output_type": "stream",
     "text": [
      "  3%|▎         | 4105/130238 [28:26<17:51:12,  1.96it/s]"
     ]
    },
    {
     "name": "stdout",
     "output_type": "stream",
     "text": [
      "Error retrieving coordinates for PJE. QUILLAY 1485 POBLACION BOSQUE DE OCALINDO LLEUQUES HACIA CERRO PRIMER PASAJE: Value after * must be an iterable, not Exception\n",
      "Error retrieving coordinates for PJE. QUILLAY 1485 POBLACION BOSQUE DE OCALINDO LLEUQUES HACIA EL CERRO PASAJE: Value after * must be an iterable, not Exception\n"
     ]
    },
    {
     "name": "stderr",
     "output_type": "stream",
     "text": [
      "  3%|▎         | 4107/130238 [28:26<18:05:56,  1.94it/s]"
     ]
    },
    {
     "name": "stdout",
     "output_type": "stream",
     "text": [
      "Error retrieving coordinates for PJE. QUILLAY 1485 POBLACION BOSQUE DE OCALINDO LLEUQUES HACIA EL PRIMER PASAJE: Value after * must be an iterable, not Exception\n"
     ]
    },
    {
     "name": "stderr",
     "output_type": "stream",
     "text": [
      "  3%|▎         | 4108/130238 [28:27<15:33:14,  2.25it/s]"
     ]
    },
    {
     "name": "stdout",
     "output_type": "stream",
     "text": [
      "Error retrieving coordinates for PJE. QUILLAY 1485 POBLACION BOSQUE DE OCALINDO LOS CERRO PRIMER PASAJE ANGOL: Value after * must be an iterable, not Exception\n"
     ]
    },
    {
     "name": "stderr",
     "output_type": "stream",
     "text": [
      "  3%|▎         | 4109/130238 [28:28<23:54:50,  1.47it/s]"
     ]
    },
    {
     "name": "stdout",
     "output_type": "stream",
     "text": [
      "Error retrieving coordinates for PJE. QUILLAY 1485 POBLACION BOSQUE DE OCALINDO LOS LLEUQUES EL CERRO PASAJE: Value after * must be an iterable, not ConnectTimeout\n",
      "Error retrieving coordinates for PJE. QUILLAY 1485 POBLACION BOSQUE DE OCALINDO LOS LLEUQUES EL CERRO PRIMER: Value after * must be an iterable, not ConnectTimeout\n"
     ]
    },
    {
     "name": "stderr",
     "output_type": "stream",
     "text": [
      "  3%|▎         | 4112/130238 [28:29<15:26:39,  2.27it/s]"
     ]
    },
    {
     "name": "stdout",
     "output_type": "stream",
     "text": [
      "Error retrieving coordinates for PJE. QUILLAY 1485 POBLACION BOSQUE DE OCALINDO LLEUQUES EL CERRO PRIMER PASAJE: Value after * must be an iterable, not Exception\n",
      "Error retrieving coordinates for PJE. QUILLAY 1485 POBLACION BOSQUE DE OCALINDO LOS LLEUQUES EL PASAJE ANGOL: Value after * must be an iterable, not ConnectTimeout\n",
      "Error retrieving coordinates for PJE. QUILLAY 1485 POBLACION BOSQUE DE OCALINDO LLEUQUES HACIA CERRO PRIMER ANGOL: Value after * must be an iterable, not Exception\n"
     ]
    },
    {
     "name": "stderr",
     "output_type": "stream",
     "text": [
      "  3%|▎         | 4114/130238 [28:29<13:01:53,  2.69it/s]"
     ]
    },
    {
     "name": "stdout",
     "output_type": "stream",
     "text": [
      "Error retrieving coordinates for PJE. QUILLAY 1485 POBLACION BOSQUE DE OCALINDO LLEUQUES EL CERRO PRIMER ANGOL: Value after * must be an iterable, not Exception\n"
     ]
    },
    {
     "name": "stderr",
     "output_type": "stream",
     "text": [
      "  3%|▎         | 4117/130238 [28:32<18:50:06,  1.86it/s]"
     ]
    },
    {
     "name": "stdout",
     "output_type": "stream",
     "text": [
      "Error retrieving coordinates for PJE. QUILLAY 1485 POBLACION BOSQUE DE OCALINDO LLEUQUES CERRO PRIMER PASAJE ANGOL: Value after * must be an iterable, not Exception\n",
      "Error retrieving coordinates for PJE. QUILLAY 1485 POBLACION BOSQUE DE OCALINDO LLEUQUES HACIA EL PASAJE ANGOL: Value after * must be an iterable, not Exception\n",
      "Error retrieving coordinates for PJE. QUILLAY 1485 POBLACION BOSQUE DE OCALINDO LLEUQUES HACIA CERRO PASAJE ANGOL: Value after * must be an iterable, not Exception\n"
     ]
    },
    {
     "name": "stderr",
     "output_type": "stream",
     "text": [
      "  3%|▎         | 4118/130238 [28:33<18:52:15,  1.86it/s]"
     ]
    },
    {
     "name": "stdout",
     "output_type": "stream",
     "text": [
      "Error retrieving coordinates for PJE. QUILLAY 1485 POBLACION BOSQUE DE OCALINDO LLEUQUES EL PRIMER PASAJE ANGOL: Value after * must be an iterable, not Exception\n"
     ]
    },
    {
     "name": "stderr",
     "output_type": "stream",
     "text": [
      "  3%|▎         | 4121/130238 [28:34<17:16:37,  2.03it/s]"
     ]
    },
    {
     "name": "stdout",
     "output_type": "stream",
     "text": [
      "Error retrieving coordinates for PJE. QUILLAY 1485 POBLACION BOSQUE DE OCALINDO LOS HACIA CERRO PRIMER ANGOL: Value after * must be an iterable, not ConnectTimeoutError retrieving coordinates for PJE. QUILLAY 1485 POBLACION BOSQUE DE OCALINDO LOS HACIA CERRO PASAJE ANGOL: Value after * must be an iterable, not ConnectTimeout\n",
      "\n",
      "Error retrieving coordinates for PJE. QUILLAY 1485 POBLACION BOSQUE DE OCALINDO HACIA EL CERRO PRIMER ANGOL: Value after * must be an iterable, not Exception\n"
     ]
    },
    {
     "name": "stderr",
     "output_type": "stream",
     "text": [
      "  3%|▎         | 4122/130238 [28:36<23:55:34,  1.46it/s]"
     ]
    },
    {
     "name": "stdout",
     "output_type": "stream",
     "text": [
      "Error retrieving coordinates for PJE. QUILLAY 1485 POBLACION BOSQUE DE OCALINDO LOS EL CERRO PRIMER ANGOL: Value after * must be an iterable, not ConnectTimeout\n"
     ]
    },
    {
     "name": "stderr",
     "output_type": "stream",
     "text": [
      "  3%|▎         | 4123/130238 [28:36<20:22:07,  1.72it/s]"
     ]
    },
    {
     "name": "stdout",
     "output_type": "stream",
     "text": [
      "Error retrieving coordinates for PJE. QUILLAY 1485 POBLACION BOSQUE DE CON LOS LLEUQUES HACIA EL CERRO: Value after * must be an iterable, not Exception\n"
     ]
    },
    {
     "name": "stderr",
     "output_type": "stream",
     "text": [
      "  3%|▎         | 4124/130238 [28:37<22:42:09,  1.54it/s]"
     ]
    },
    {
     "name": "stdout",
     "output_type": "stream",
     "text": [
      "Error retrieving coordinates for PJE. QUILLAY 1485 POBLACION BOSQUE DE OCALINDO HACIA EL CERRO PASAJE ANGOL: Value after * must be an iterable, not Exception\n",
      "Error retrieving coordinates for PJE. QUILLAY 1485 POBLACION BOSQUE DE OCALINDO LLEUQUES HACIA EL PRIMER ANGOL: Value after * must be an iterable, not Exception\n"
     ]
    },
    {
     "name": "stderr",
     "output_type": "stream",
     "text": [
      "  3%|▎         | 4126/130238 [28:38<22:55:09,  1.53it/s]"
     ]
    },
    {
     "name": "stdout",
     "output_type": "stream",
     "text": [
      "Error retrieving coordinates for PJE. QUILLAY 1485 POBLACION BOSQUE DE OCALINDO LOS HACIA PRIMER PASAJE ANGOL: Value after * must be an iterable, not Exception\n"
     ]
    },
    {
     "name": "stderr",
     "output_type": "stream",
     "text": [
      "  3%|▎         | 4127/130238 [28:40<32:13:40,  1.09it/s]"
     ]
    },
    {
     "name": "stdout",
     "output_type": "stream",
     "text": [
      "Error retrieving coordinates for PJE. QUILLAY 1485 POBLACION BOSQUE DE CON LOS LLEUQUES HACIA CERRO PASAJE: Value after * must be an iterable, not Exception\n",
      "Error retrieving coordinates for PJE. QUILLAY 1485 POBLACION BOSQUE DE CON LOS LLEUQUES CERRO PRIMER PASAJE: Value after * must be an iterable, not Exception\n"
     ]
    },
    {
     "name": "stderr",
     "output_type": "stream",
     "text": [
      "  3%|▎         | 4129/130238 [28:41<24:40:35,  1.42it/s]"
     ]
    },
    {
     "name": "stdout",
     "output_type": "stream",
     "text": [
      "Error retrieving coordinates for PJE. QUILLAY 1485 POBLACION BOSQUE DE CON LOS LLEUQUES HACIA EL PASAJE: Value after * must be an iterable, not Exception\n"
     ]
    },
    {
     "name": "stderr",
     "output_type": "stream",
     "text": [
      "  3%|▎         | 4131/130238 [28:41<20:01:26,  1.75it/s]"
     ]
    },
    {
     "name": "stdout",
     "output_type": "stream",
     "text": [
      "Error retrieving coordinates for PJE. QUILLAY 1485 POBLACION BOSQUE DE CON LOS LLEUQUES EL CERRO PASAJE: Value after * must be an iterable, not Exception\n",
      "Error retrieving coordinates for PJE. QUILLAY 1485 POBLACION BOSQUE DE CON LOS LLEUQUES EL CERRO PRIMER: Value after * must be an iterable, not Exception\n"
     ]
    },
    {
     "name": "stderr",
     "output_type": "stream",
     "text": [
      "  3%|▎         | 4132/130238 [28:42<20:54:52,  1.67it/s]"
     ]
    },
    {
     "name": "stdout",
     "output_type": "stream",
     "text": [
      "Error retrieving coordinates for PJE. QUILLAY 1485 POBLACION BOSQUE DE OCALINDO LLEUQUES HACIA PRIMER PASAJE ANGOL: Value after * must be an iterable, not ConnectTimeout\n",
      "Error retrieving coordinates for PJE. QUILLAY 1485 POBLACION BOSQUE DE OCALINDO HACIA EL CERRO PRIMER PASAJE: Value after * must be an iterable, not Exception\n"
     ]
    },
    {
     "name": "stderr",
     "output_type": "stream",
     "text": [
      "  3%|▎         | 4134/130238 [28:43<16:30:59,  2.12it/s]"
     ]
    },
    {
     "name": "stdout",
     "output_type": "stream",
     "text": [
      "Error retrieving coordinates for PJE. QUILLAY 1485 POBLACION BOSQUE DE CON LOS LLEUQUES HACIA EL ANGOL: Value after * must be an iterable, not Exception\n"
     ]
    },
    {
     "name": "stderr",
     "output_type": "stream",
     "text": [
      "  3%|▎         | 4135/130238 [28:44<23:54:27,  1.47it/s]"
     ]
    },
    {
     "name": "stdout",
     "output_type": "stream",
     "text": [
      "Error retrieving coordinates for PJE. QUILLAY 1485 POBLACION BOSQUE DE CON LOS LLEUQUES HACIA PASAJE ANGOL: Value after * must be an iterable, not Exception\n"
     ]
    },
    {
     "name": "stderr",
     "output_type": "stream",
     "text": [
      "  3%|▎         | 4136/130238 [28:45<26:06:06,  1.34it/s]"
     ]
    },
    {
     "name": "stdout",
     "output_type": "stream",
     "text": [
      "Error retrieving coordinates for PJE. QUILLAY 1485 POBLACION BOSQUE DE CON LOS LLEUQUES CERRO PASAJE ANGOL: Value after * must be an iterable, not Exception\n"
     ]
    },
    {
     "name": "stderr",
     "output_type": "stream",
     "text": [
      "  3%|▎         | 4137/130238 [28:45<23:22:04,  1.50it/s]"
     ]
    },
    {
     "name": "stdout",
     "output_type": "stream",
     "text": [
      "Error retrieving coordinates for PJE. QUILLAY 1485 POBLACION BOSQUE DE OCALINDO HACIA EL PRIMER PASAJE ANGOL: Value after * must be an iterable, not Exception\n"
     ]
    },
    {
     "name": "stderr",
     "output_type": "stream",
     "text": [
      "  3%|▎         | 4138/130238 [28:46<20:39:13,  1.70it/s]"
     ]
    },
    {
     "name": "stdout",
     "output_type": "stream",
     "text": [
      "Error retrieving coordinates for PJE. QUILLAY 1485 POBLACION BOSQUE DE OCALINDO LLEUQUES HACIA EL CERRO ANGOL: Value after * must be an iterable, not Exception\n"
     ]
    },
    {
     "name": "stderr",
     "output_type": "stream",
     "text": [
      "  3%|▎         | 4139/130238 [28:46<17:09:15,  2.04it/s]"
     ]
    },
    {
     "name": "stdout",
     "output_type": "stream",
     "text": [
      "Error retrieving coordinates for PJE. QUILLAY 1485 POBLACION BOSQUE DE OCALINDO EL CERRO PRIMER PASAJE ANGOL: Value after * must be an iterable, not Exception\n"
     ]
    },
    {
     "name": "stderr",
     "output_type": "stream",
     "text": [
      "  3%|▎         | 4141/130238 [28:47<16:21:46,  2.14it/s]"
     ]
    },
    {
     "name": "stdout",
     "output_type": "stream",
     "text": [
      "Error retrieving coordinates for PJE. QUILLAY 1485 POBLACION BOSQUE DE CON LOS LLEUQUES EL CERRO ANGOL: Value after * must be an iterable, not Exception\n",
      "Error retrieving coordinates for PJE. QUILLAY 1485 POBLACION BOSQUE DE CON LOS LLEUQUES HACIA CERRO PRIMER: Value after * must be an iterable, not Exception\n"
     ]
    },
    {
     "name": "stderr",
     "output_type": "stream",
     "text": [
      "  3%|▎         | 4142/130238 [28:47<13:14:04,  2.65it/s]"
     ]
    },
    {
     "name": "stdout",
     "output_type": "stream",
     "text": [
      "Error retrieving coordinates for PJE. QUILLAY 1485 POBLACION BOSQUE DE CON LOS LLEUQUES HACIA EL PRIMER: Value after * must be an iterable, not Exception\n"
     ]
    },
    {
     "name": "stderr",
     "output_type": "stream",
     "text": [
      "  3%|▎         | 4143/130238 [28:48<15:51:07,  2.21it/s]"
     ]
    },
    {
     "name": "stdout",
     "output_type": "stream",
     "text": [
      "Error retrieving coordinates for PJE. QUILLAY 1485 POBLACION BOSQUE DE CON LOS LLEUQUES EL PRIMER ANGOL: Value after * must be an iterable, not Exception\n"
     ]
    },
    {
     "name": "stderr",
     "output_type": "stream",
     "text": [
      "  3%|▎         | 4144/130238 [28:49<18:12:51,  1.92it/s]"
     ]
    },
    {
     "name": "stdout",
     "output_type": "stream",
     "text": [
      "Error retrieving coordinates for PJE. QUILLAY 1485 POBLACION BOSQUE DE CON LOS LLEUQUES EL PRIMER PASAJE: Value after * must be an iterable, not Exception\n"
     ]
    },
    {
     "name": "stderr",
     "output_type": "stream",
     "text": [
      "  3%|▎         | 4145/130238 [28:49<21:33:18,  1.62it/s]"
     ]
    },
    {
     "name": "stdout",
     "output_type": "stream",
     "text": [
      "Error retrieving coordinates for PJE. QUILLAY 1485 POBLACION BOSQUE DE OCALINDO HACIA CERRO PRIMER PASAJE ANGOL: Value after * must be an iterable, not Exception\n"
     ]
    },
    {
     "name": "stderr",
     "output_type": "stream",
     "text": [
      "  3%|▎         | 4146/130238 [28:50<20:26:45,  1.71it/s]"
     ]
    },
    {
     "name": "stdout",
     "output_type": "stream",
     "text": [
      "Error retrieving coordinates for PJE. QUILLAY 1485 POBLACION BOSQUE DE CON LOS LLEUQUES PRIMER PASAJE ANGOL: Value after * must be an iterable, not Exception\n",
      "Error retrieving coordinates for PJE. QUILLAY 1485 POBLACION BOSQUE DE CON LOS HACIA EL PRIMER ANGOL: Value after * must be an iterable, not Exception\n",
      "Error retrieving coordinates for PJE. QUILLAY 1485 POBLACION BOSQUE DE CON LOS LLEUQUES EL PASAJE ANGOL: Value after * must be an iterable, not Exception\n"
     ]
    },
    {
     "name": "stderr",
     "output_type": "stream",
     "text": [
      "  3%|▎         | 4149/130238 [28:51<15:08:29,  2.31it/s]"
     ]
    },
    {
     "name": "stdout",
     "output_type": "stream",
     "text": [
      "Error retrieving coordinates for PJE. QUILLAY 1485 POBLACION BOSQUE DE CON LOS LLEUQUES HACIA CERRO ANGOL: Value after * must be an iterable, not Exception\n"
     ]
    },
    {
     "name": "stderr",
     "output_type": "stream",
     "text": [
      "  3%|▎         | 4150/130238 [28:51<16:08:05,  2.17it/s]"
     ]
    },
    {
     "name": "stdout",
     "output_type": "stream",
     "text": [
      "Error retrieving coordinates for PJE. QUILLAY 1485 POBLACION BOSQUE DE CON LOS HACIA EL CERRO PRIMER: Value after * must be an iterable, not Exception\n"
     ]
    },
    {
     "name": "stderr",
     "output_type": "stream",
     "text": [
      "  3%|▎         | 4151/130238 [28:52<18:08:54,  1.93it/s]"
     ]
    },
    {
     "name": "stdout",
     "output_type": "stream",
     "text": [
      "Error retrieving coordinates for PJE. QUILLAY 1485 POBLACION BOSQUE DE CON LOS HACIA CERRO PASAJE ANGOL: Value after * must be an iterable, not Exception\n"
     ]
    },
    {
     "name": "stderr",
     "output_type": "stream",
     "text": [
      "  3%|▎         | 4152/130238 [28:53<17:59:28,  1.95it/s]"
     ]
    },
    {
     "name": "stdout",
     "output_type": "stream",
     "text": [
      "Error retrieving coordinates for PJE. QUILLAY 1485 POBLACION BOSQUE DE CON LOS HACIA EL PRIMER PASAJE: Value after * must be an iterable, not Exception\n"
     ]
    },
    {
     "name": "stderr",
     "output_type": "stream",
     "text": [
      "  3%|▎         | 4153/130238 [28:53<15:25:49,  2.27it/s]"
     ]
    },
    {
     "name": "stdout",
     "output_type": "stream",
     "text": [
      "Error retrieving coordinates for PJE. QUILLAY 1485 POBLACION BOSQUE DE CON LLEUQUES HACIA EL CERRO PRIMER: Value after * must be an iterable, not Exception\n"
     ]
    },
    {
     "name": "stderr",
     "output_type": "stream",
     "text": [
      "  3%|▎         | 4154/130238 [28:55<30:14:54,  1.16it/s]"
     ]
    },
    {
     "name": "stdout",
     "output_type": "stream",
     "text": [
      "Error retrieving coordinates for PJE. QUILLAY 1485 POBLACION BOSQUE DE CON LOS HACIA CERRO PRIMER ANGOL: Value after * must be an iterable, not Exception\n"
     ]
    },
    {
     "name": "stderr",
     "output_type": "stream",
     "text": [
      "  3%|▎         | 4155/130238 [28:55<26:41:46,  1.31it/s]"
     ]
    },
    {
     "name": "stdout",
     "output_type": "stream",
     "text": [
      "Error retrieving coordinates for PJE. QUILLAY 1485 POBLACION BOSQUE DE CON LOS LLEUQUES HACIA PRIMER ANGOL: Value after * must be an iterable, not Exception\n"
     ]
    },
    {
     "name": "stderr",
     "output_type": "stream",
     "text": [
      "  3%|▎         | 4156/130238 [28:56<26:08:53,  1.34it/s]"
     ]
    },
    {
     "name": "stdout",
     "output_type": "stream",
     "text": [
      "Error retrieving coordinates for PJE. QUILLAY 1485 POBLACION BOSQUE DE CON LOS HACIA EL CERRO ANGOL: Value after * must be an iterable, not Exception\n"
     ]
    },
    {
     "name": "stderr",
     "output_type": "stream",
     "text": [
      "  3%|▎         | 4159/130238 [28:57<14:15:54,  2.46it/s]"
     ]
    },
    {
     "name": "stdout",
     "output_type": "stream",
     "text": [
      "Error retrieving coordinates for PJE. QUILLAY 1485 POBLACION BOSQUE DE CON LOS LLEUQUES CERRO PRIMER ANGOL: Value after * must be an iterable, not Exception\n",
      "Error retrieving coordinates for PJE. QUILLAY 1485 POBLACION BOSQUE DE CON LOS EL CERRO PASAJE ANGOL: Value after * must be an iterable, not Exception\n",
      "Error retrieving coordinates for PJE. QUILLAY 1485 POBLACION BOSQUE DE CON LLEUQUES HACIA CERRO PRIMER PASAJE: Value after * must be an iterable, not Exception\n"
     ]
    },
    {
     "name": "stderr",
     "output_type": "stream",
     "text": [
      "  3%|▎         | 4160/130238 [28:57<14:54:04,  2.35it/s]"
     ]
    },
    {
     "name": "stdout",
     "output_type": "stream",
     "text": [
      "Error retrieving coordinates for PJE. QUILLAY 1485 POBLACION BOSQUE DE CON LOS HACIA CERRO PRIMER PASAJE: Value after * must be an iterable, not Exception\n"
     ]
    },
    {
     "name": "stderr",
     "output_type": "stream",
     "text": [
      "  3%|▎         | 4162/130238 [28:58<11:50:13,  2.96it/s]"
     ]
    },
    {
     "name": "stdout",
     "output_type": "stream",
     "text": [
      "Error retrieving coordinates for PJE. QUILLAY 1485 POBLACION BOSQUE DE CON LOS LLEUQUES HACIA PRIMER PASAJE: Value after * must be an iterable, not Exception\n",
      "Error retrieving coordinates for PJE. QUILLAY 1485 POBLACION BOSQUE DE CON LLEUQUES HACIA CERRO PASAJE ANGOL: Value after * must be an iterable, not Exception\n",
      "Error retrieving coordinates for PJE. QUILLAY 1485 POBLACION BOSQUE DE CON LOS EL CERRO PRIMER PASAJE: Value after * must be an iterable, not Exception\n"
     ]
    },
    {
     "name": "stderr",
     "output_type": "stream",
     "text": [
      "  3%|▎         | 4166/130238 [28:58<5:39:41,  6.19it/s] "
     ]
    },
    {
     "name": "stdout",
     "output_type": "stream",
     "text": [
      "Error retrieving coordinates for PJE. QUILLAY 1485 POBLACION BOSQUE DE OCALINDO LLEUQUES EL CERRO PASAJE ANGOL: Value after * must be an iterable, not Exception\n",
      "Error retrieving coordinates for PJE. QUILLAY 1485 POBLACION BOSQUE DE CON LOS HACIA PRIMER PASAJE ANGOL: Value after * must be an iterable, not Exception\n",
      "Error retrieving coordinates for PJE. QUILLAY 1485 POBLACION BOSQUE DE CON LOS EL CERRO PRIMER ANGOL: Value after * must be an iterable, not Exception\n"
     ]
    },
    {
     "name": "stderr",
     "output_type": "stream",
     "text": [
      "  3%|▎         | 4167/130238 [28:58<7:28:31,  4.68it/s]"
     ]
    },
    {
     "name": "stdout",
     "output_type": "stream",
     "text": [
      "Error retrieving coordinates for PJE. QUILLAY 1485 POBLACION BOSQUE DE CON LOS HACIA EL PASAJE ANGOL: Value after * must be an iterable, not Exception\n"
     ]
    },
    {
     "name": "stderr",
     "output_type": "stream",
     "text": [
      "  3%|▎         | 4169/130238 [28:59<7:09:39,  4.89it/s]"
     ]
    },
    {
     "name": "stdout",
     "output_type": "stream",
     "text": [
      "Error retrieving coordinates for PJE. QUILLAY 1485 POBLACION BOSQUE DE CON LLEUQUES EL CERRO PASAJE ANGOL: Value after * must be an iterable, not Exception\n",
      "Error retrieving coordinates for PJE. QUILLAY 1485 POBLACION BOSQUE DE CON LLEUQUES EL CERRO PRIMER ANGOL: Value after * must be an iterable, not Exception\n"
     ]
    },
    {
     "name": "stderr",
     "output_type": "stream",
     "text": [
      "  3%|▎         | 4170/130238 [29:00<12:58:38,  2.70it/s]"
     ]
    },
    {
     "name": "stdout",
     "output_type": "stream",
     "text": [
      "Error retrieving coordinates for PJE. QUILLAY 1485 POBLACION BOSQUE DE CON LOS HACIA EL CERRO PASAJE: Value after * must be an iterable, not Exception\n"
     ]
    },
    {
     "name": "stderr",
     "output_type": "stream",
     "text": [
      "  3%|▎         | 4172/130238 [29:01<15:52:26,  2.21it/s]"
     ]
    },
    {
     "name": "stdout",
     "output_type": "stream",
     "text": [
      "Error retrieving coordinates for PJE. QUILLAY 1485 POBLACION BOSQUE DE CON LLEUQUES HACIA EL CERRO PASAJE: Value after * must be an iterable, not Exception\n",
      "Error retrieving coordinates for PJE. QUILLAY 1485 POBLACION BOSQUE DE CON LLEUQUES HACIA EL PRIMER ANGOL: Value after * must be an iterable, not Exception\n"
     ]
    },
    {
     "name": "stderr",
     "output_type": "stream",
     "text": [
      "  3%|▎         | 4173/130238 [29:01<12:36:54,  2.78it/s]"
     ]
    },
    {
     "name": "stdout",
     "output_type": "stream",
     "text": [
      "Error retrieving coordinates for PJE. QUILLAY 1485 POBLACION BOSQUE DE CON HACIA EL CERRO PASAJE ANGOL: Value after * must be an iterable, not Exception\n"
     ]
    },
    {
     "name": "stderr",
     "output_type": "stream",
     "text": [
      "  3%|▎         | 4174/130238 [29:01<11:50:41,  2.96it/s]"
     ]
    },
    {
     "name": "stdout",
     "output_type": "stream",
     "text": [
      "Error retrieving coordinates for PJE. QUILLAY 1485 POBLACION BOSQUE DE CON LLEUQUES HACIA EL PRIMER PASAJE: Value after * must be an iterable, not Exception\n"
     ]
    },
    {
     "name": "stderr",
     "output_type": "stream",
     "text": [
      "  3%|▎         | 4175/130238 [29:02<16:41:19,  2.10it/s]"
     ]
    },
    {
     "name": "stdout",
     "output_type": "stream",
     "text": [
      "Error retrieving coordinates for PJE. QUILLAY 1485 POBLACION BOSQUE DE CON EL CERRO PRIMER PASAJE ANGOL: Value after * must be an iterable, not Exception\n"
     ]
    },
    {
     "name": "stderr",
     "output_type": "stream",
     "text": [
      "  3%|▎         | 4176/130238 [29:03<17:04:50,  2.05it/s]"
     ]
    },
    {
     "name": "stdout",
     "output_type": "stream",
     "text": [
      "Error retrieving coordinates for PJE. QUILLAY 1485 POBLACION BOSQUE DE CON LLEUQUES HACIA EL PASAJE ANGOL: Value after * must be an iterable, not Exception\n"
     ]
    },
    {
     "name": "stderr",
     "output_type": "stream",
     "text": [
      "  3%|▎         | 4178/130238 [29:03<12:07:49,  2.89it/s]"
     ]
    },
    {
     "name": "stdout",
     "output_type": "stream",
     "text": [
      "Error retrieving coordinates for PJE. QUILLAY 1485 POBLACION BOSQUE DE CON LOS CERRO PRIMER PASAJE ANGOL: Value after * must be an iterable, not Exception\n",
      "Error retrieving coordinates for PJE. QUILLAY 1485 POBLACION BOSQUE DE CON HACIA CERRO PRIMER PASAJE ANGOL: Value after * must be an iterable, not Exception\n"
     ]
    },
    {
     "name": "stderr",
     "output_type": "stream",
     "text": [
      "  3%|▎         | 4179/130238 [29:03<10:16:29,  3.41it/s]"
     ]
    },
    {
     "name": "stdout",
     "output_type": "stream",
     "text": [
      "Error retrieving coordinates for PJE. QUILLAY 1485 POBLACION BOSQUE DE CON LLEUQUES CERRO PRIMER PASAJE ANGOL: Value after * must be an iterable, not Exception\n"
     ]
    },
    {
     "name": "stderr",
     "output_type": "stream",
     "text": [
      "  3%|▎         | 4180/130238 [29:04<9:54:55,  3.53it/s] "
     ]
    },
    {
     "name": "stdout",
     "output_type": "stream",
     "text": [
      "Error retrieving coordinates for PJE. QUILLAY 1485 POBLACION BOSQUE DE LOS LLEUQUES HACIA EL CERRO ANGOL: Value after * must be an iterable, not Exception\n",
      "Error retrieving coordinates for PJE. QUILLAY 1485 POBLACION BOSQUE DE CON LLEUQUES EL CERRO PRIMER PASAJE: Value after * must be an iterable, not Exception\n"
     ]
    },
    {
     "name": "stderr",
     "output_type": "stream",
     "text": [
      "  3%|▎         | 4182/130238 [29:04<10:43:12,  3.27it/s]"
     ]
    },
    {
     "name": "stdout",
     "output_type": "stream",
     "text": [
      "Error retrieving coordinates for PJE. QUILLAY 1485 POBLACION BOSQUE DE CON LLEUQUES EL PRIMER PASAJE ANGOL: Value after * must be an iterable, not Exception\n",
      "Error retrieving coordinates for PJE. QUILLAY 1485 POBLACION BOSQUE DE CON LLEUQUES HACIA EL CERRO ANGOL: Value after * must be an iterable, not Exception\n"
     ]
    },
    {
     "name": "stderr",
     "output_type": "stream",
     "text": [
      "  3%|▎         | 4184/130238 [29:04<8:33:24,  4.09it/s] "
     ]
    },
    {
     "name": "stdout",
     "output_type": "stream",
     "text": [
      "Error retrieving coordinates for PJE. QUILLAY 1485 POBLACION BOSQUE DE CON HACIA EL PRIMER PASAJE ANGOL: Value after * must be an iterable, not Exception\n"
     ]
    },
    {
     "name": "stderr",
     "output_type": "stream",
     "text": [
      "  3%|▎         | 4185/130238 [29:05<11:37:43,  3.01it/s]"
     ]
    },
    {
     "name": "stdout",
     "output_type": "stream",
     "text": [
      "Error retrieving coordinates for PJE. QUILLAY 1485 POBLACION BOSQUE DE CON LLEUQUES HACIA CERRO PRIMER ANGOL: Value after * must be an iterable, not Exception\n"
     ]
    },
    {
     "name": "stderr",
     "output_type": "stream",
     "text": [
      "  3%|▎         | 4186/130238 [29:06<15:52:04,  2.21it/s]"
     ]
    },
    {
     "name": "stdout",
     "output_type": "stream",
     "text": [
      "Error retrieving coordinates for PJE. QUILLAY 1485 POBLACION BOSQUE DE LOS LLEUQUES HACIA EL CERRO PRIMER: Value after * must be an iterable, not Exception\n"
     ]
    },
    {
     "name": "stderr",
     "output_type": "stream",
     "text": [
      "  3%|▎         | 4187/130238 [29:07<16:54:17,  2.07it/s]"
     ]
    },
    {
     "name": "stdout",
     "output_type": "stream",
     "text": [
      "Error retrieving coordinates for PJE. QUILLAY 1485 POBLACION BOSQUE DE LOS LLEUQUES HACIA EL CERRO PASAJE: Value after * must be an iterable, not Exception\n",
      "Error retrieving coordinates for PJE. QUILLAY 1485 POBLACION BOSQUE DE LOS LLEUQUES HACIA CERRO PRIMER PASAJE: Value after * must be an iterable, not Exception\n"
     ]
    },
    {
     "name": "stderr",
     "output_type": "stream",
     "text": [
      "  3%|▎         | 4189/130238 [29:07<13:55:43,  2.51it/s]"
     ]
    },
    {
     "name": "stdout",
     "output_type": "stream",
     "text": [
      "Error retrieving coordinates for PJE. QUILLAY 1485 POBLACION BOSQUE DE LOS LLEUQUES EL PRIMER PASAJE ANGOL: Value after * must be an iterable, not Exception\n"
     ]
    },
    {
     "name": "stderr",
     "output_type": "stream",
     "text": [
      "  3%|▎         | 4190/130238 [29:08<17:07:44,  2.04it/s]"
     ]
    },
    {
     "name": "stdout",
     "output_type": "stream",
     "text": [
      "Error retrieving coordinates for PJE. QUILLAY 1485 POBLACION BOSQUE DE LOS LLEUQUES EL CERRO PRIMER PASAJE: Value after * must be an iterable, not Exception\n",
      "Error retrieving coordinates for PJE. QUILLAY 1485 POBLACION BOSQUE DE LOS HACIA EL CERRO PRIMER PASAJE: Value after * must be an iterable, not Exception\n"
     ]
    },
    {
     "name": "stderr",
     "output_type": "stream",
     "text": [
      "  3%|▎         | 4191/130238 [29:08<14:21:44,  2.44it/s]"
     ]
    },
    {
     "name": "stdout",
     "output_type": "stream",
     "text": [
      "Error retrieving coordinates for PJE. QUILLAY 1485 POBLACION BOSQUE DE CON HACIA EL CERRO PRIMER PASAJE: Value after * must be an iterable, not Exception\n"
     ]
    },
    {
     "name": "stderr",
     "output_type": "stream",
     "text": [
      "  3%|▎         | 4193/130238 [29:09<13:18:15,  2.63it/s]"
     ]
    },
    {
     "name": "stdout",
     "output_type": "stream",
     "text": [
      "Error retrieving coordinates for PJE. QUILLAY 1485 POBLACION BOSQUE DE LOS LLEUQUES CERRO PRIMER PASAJE ANGOL: Value after * must be an iterable, not Exception\n"
     ]
    },
    {
     "name": "stderr",
     "output_type": "stream",
     "text": [
      "  3%|▎         | 4194/130238 [29:09<12:42:32,  2.75it/s]"
     ]
    },
    {
     "name": "stdout",
     "output_type": "stream",
     "text": [
      "Error retrieving coordinates for PJE. QUILLAY 1485 POBLACION BOSQUE DE LOS LLEUQUES EL CERRO PRIMER ANGOL: Value after * must be an iterable, not Exception\n"
     ]
    },
    {
     "name": "stderr",
     "output_type": "stream",
     "text": [
      "  3%|▎         | 4195/130238 [29:09<11:41:38,  2.99it/s]"
     ]
    },
    {
     "name": "stdout",
     "output_type": "stream",
     "text": [
      "Error retrieving coordinates for PJE. QUILLAY 1485 POBLACION BOSQUE DE CON HACIA EL CERRO PRIMER ANGOL: Value after * must be an iterable, not Exception\n"
     ]
    },
    {
     "name": "stderr",
     "output_type": "stream",
     "text": [
      "  3%|▎         | 4196/130238 [29:10<16:50:25,  2.08it/s]"
     ]
    },
    {
     "name": "stdout",
     "output_type": "stream",
     "text": [
      "Error retrieving coordinates for PJE. QUILLAY 1485 POBLACION BOSQUE DE LLEUQUES HACIA EL PRIMER PASAJE ANGOL: Value after * must be an iterable, not Exception\n"
     ]
    },
    {
     "name": "stderr",
     "output_type": "stream",
     "text": [
      "  3%|▎         | 4199/130238 [29:11<14:14:02,  2.46it/s]"
     ]
    },
    {
     "name": "stdout",
     "output_type": "stream",
     "text": [
      "Error retrieving coordinates for PJE. QUILLAY 1485 POBLACION BOSQUE DE CON LLEUQUES HACIA PRIMER PASAJE ANGOL: Value after * must be an iterable, not Exception\n",
      "Error retrieving coordinates for PJE. QUILLAY 1485 POBLACION BOSQUE DE LOS LLEUQUES HACIA EL PRIMER PASAJE: Value after * must be an iterable, not Exception\n",
      "Error retrieving coordinates for PJE. QUILLAY 1485 POBLACION BOSQUE DE CON LOS EL PRIMER PASAJE ANGOL: Value after * must be an iterable, not Exception\n",
      "Error retrieving coordinates for PJE. QUILLAY 1485 POBLACION BOSQUE DE LLEUQUES HACIA CERRO PRIMER PASAJE ANGOL: Value after * must be an iterable, not Exception\n"
     ]
    },
    {
     "name": "stderr",
     "output_type": "stream",
     "text": [
      "  3%|▎         | 4201/130238 [29:12<13:17:35,  2.63it/s]"
     ]
    },
    {
     "name": "stdout",
     "output_type": "stream",
     "text": [
      "Error retrieving coordinates for PJE. QUILLAY 1485 POBLACION BOSQUE DE LLEUQUES HACIA EL CERRO PRIMER PASAJE: Value after * must be an iterable, not Exception\n"
     ]
    },
    {
     "name": "stderr",
     "output_type": "stream",
     "text": [
      "  3%|▎         | 4202/130238 [29:13<13:13:58,  2.65it/s]"
     ]
    },
    {
     "name": "stdout",
     "output_type": "stream",
     "text": [
      "Error retrieving coordinates for PJE. QUILLAY 1485 POBLACION BOSQUE DE LOS LLEUQUES HACIA EL PRIMER ANGOL: Value after * must be an iterable, not Exception\n"
     ]
    },
    {
     "name": "stderr",
     "output_type": "stream",
     "text": [
      "  3%|▎         | 4203/130238 [29:13<15:07:40,  2.31it/s]"
     ]
    },
    {
     "name": "stdout",
     "output_type": "stream",
     "text": [
      "Error retrieving coordinates for PJE. QUILLAY 1485 POBLACION BOSQUE DE LOS HACIA EL CERRO PASAJE ANGOL: Value after * must be an iterable, not Exception\n"
     ]
    },
    {
     "name": "stderr",
     "output_type": "stream",
     "text": [
      "  3%|▎         | 4204/130238 [29:15<24:08:10,  1.45it/s]"
     ]
    },
    {
     "name": "stdout",
     "output_type": "stream",
     "text": [
      "Error retrieving coordinates for PJE. QUILLAY 1485 POBLACION BOSQUE DE LOS LLEUQUES HACIA PRIMER PASAJE ANGOL: Value after * must be an iterable, not Exception\n"
     ]
    },
    {
     "name": "stderr",
     "output_type": "stream",
     "text": [
      "  3%|▎         | 4206/130238 [29:16<19:40:52,  1.78it/s]"
     ]
    },
    {
     "name": "stdout",
     "output_type": "stream",
     "text": [
      "Error retrieving coordinates for PJE. QUILLAY 1485 POBLACION BOSQUE DE LOS EL CERRO PRIMER PASAJE ANGOL: Value after * must be an iterable, not Exception\n",
      "Error retrieving coordinates for PJE. QUILLAY 1485 POBLACION BOSQUE OCALINDO CON LOS LLEUQUES HACIA CERRO ANGOL: Value after * must be an iterable, not Exception\n"
     ]
    },
    {
     "name": "stderr",
     "output_type": "stream",
     "text": [
      "  3%|▎         | 4207/130238 [29:16<20:13:35,  1.73it/s]"
     ]
    },
    {
     "name": "stdout",
     "output_type": "stream",
     "text": [
      "Error retrieving coordinates for PJE. QUILLAY 1485 POBLACION BOSQUE OCALINDO CON LOS LLEUQUES HACIA PRIMER PASAJE: Value after * must be an iterable, not Exception\n"
     ]
    },
    {
     "name": "stderr",
     "output_type": "stream",
     "text": [
      "  3%|▎         | 4208/130238 [29:17<20:19:58,  1.72it/s]"
     ]
    },
    {
     "name": "stdout",
     "output_type": "stream",
     "text": [
      "Error retrieving coordinates for PJE. QUILLAY 1485 POBLACION BOSQUE OCALINDO CON LOS LLEUQUES HACIA CERRO PASAJE: Value after * must be an iterable, not Exception\n"
     ]
    },
    {
     "name": "stderr",
     "output_type": "stream",
     "text": [
      "  3%|▎         | 4209/130238 [29:17<17:46:24,  1.97it/s]"
     ]
    },
    {
     "name": "stdout",
     "output_type": "stream",
     "text": [
      "Error retrieving coordinates for PJE. QUILLAY 1485 POBLACION BOSQUE DE LOS HACIA EL CERRO PRIMER ANGOL: Value after * must be an iterable, not Exception\n",
      "Error retrieving coordinates for PJE. QUILLAY 1485 POBLACION BOSQUE OCALINDO CON LOS LLEUQUES HACIA EL ANGOL: Value after * must be an iterable, not Exception\n"
     ]
    },
    {
     "name": "stderr",
     "output_type": "stream",
     "text": [
      "  3%|▎         | 4212/130238 [29:18<13:33:03,  2.58it/s]"
     ]
    },
    {
     "name": "stdout",
     "output_type": "stream",
     "text": [
      "Error retrieving coordinates for PJE. QUILLAY 1485 POBLACION BOSQUE DE LOS HACIA EL PRIMER PASAJE ANGOL: Value after * must be an iterable, not Exception\n",
      "Error retrieving coordinates for PJE. QUILLAY 1485 POBLACION BOSQUE DE LOS LLEUQUES HACIA CERRO PASAJE ANGOL: Value after * must be an iterable, not Exception\n"
     ]
    },
    {
     "name": "stderr",
     "output_type": "stream",
     "text": [
      "  3%|▎         | 4213/130238 [29:18<12:02:11,  2.91it/s]"
     ]
    },
    {
     "name": "stdout",
     "output_type": "stream",
     "text": [
      "Error retrieving coordinates for PJE. QUILLAY 1485 POBLACION BOSQUE OCALINDO CON LOS LLEUQUES EL PRIMER ANGOL: Value after * must be an iterable, not Exception\n",
      "Error retrieving coordinates for PJE. QUILLAY 1485 POBLACION BOSQUE DE LLEUQUES HACIA EL CERRO PRIMER ANGOL: Value after * must be an iterable, not Exception\n"
     ]
    },
    {
     "name": "stderr",
     "output_type": "stream",
     "text": [
      "  3%|▎         | 4215/130238 [29:20<18:39:30,  1.88it/s]"
     ]
    },
    {
     "name": "stdout",
     "output_type": "stream",
     "text": [
      "Error retrieving coordinates for PJE. QUILLAY 1485 POBLACION BOSQUE OCALINDO CON LOS LLEUQUES HACIA PRIMER ANGOL: Value after * must be an iterable, not Exception\n"
     ]
    },
    {
     "name": "stderr",
     "output_type": "stream",
     "text": [
      "  3%|▎         | 4216/130238 [29:21<20:21:44,  1.72it/s]"
     ]
    },
    {
     "name": "stdout",
     "output_type": "stream",
     "text": [
      "Error retrieving coordinates for PJE. QUILLAY 1485 POBLACION BOSQUE OCALINDO CON LOS LLEUQUES HACIA CERRO PRIMER: Value after * must be an iterable, not Exception\n"
     ]
    },
    {
     "name": "stderr",
     "output_type": "stream",
     "text": [
      "  3%|▎         | 4217/130238 [29:21<20:33:46,  1.70it/s]"
     ]
    },
    {
     "name": "stdout",
     "output_type": "stream",
     "text": [
      "Error retrieving coordinates for PJE. QUILLAY 1485 POBLACION BOSQUE OCALINDO CON LOS LLEUQUES EL CERRO PRIMER: Value after * must be an iterable, not Exception\n"
     ]
    },
    {
     "name": "stderr",
     "output_type": "stream",
     "text": [
      "  3%|▎         | 4219/130238 [29:22<14:42:17,  2.38it/s]"
     ]
    },
    {
     "name": "stdout",
     "output_type": "stream",
     "text": [
      "Error retrieving coordinates for PJE. QUILLAY 1485 POBLACION BOSQUE OCALINDO CON LOS LLEUQUES HACIA EL PASAJE: Value after * must be an iterable, not Exception\n",
      "Error retrieving coordinates for PJE. QUILLAY 1485 POBLACION BOSQUE OCALINDO CON LOS LLEUQUES HACIA EL CERRO: Value after * must be an iterable, not Exception\n"
     ]
    },
    {
     "name": "stderr",
     "output_type": "stream",
     "text": [
      "  3%|▎         | 4221/130238 [29:22<9:27:08,  3.70it/s] "
     ]
    },
    {
     "name": "stdout",
     "output_type": "stream",
     "text": [
      "Error retrieving coordinates for PJE. QUILLAY 1485 POBLACION BOSQUE OCALINDO CON LOS LLEUQUES PRIMER PASAJE ANGOL: Value after * must be an iterable, not Exception\n",
      "Error retrieving coordinates for PJE. QUILLAY 1485 POBLACION BOSQUE OCALINDO CON LOS HACIA EL CERRO PRIMER: Value after * must be an iterable, not Exception\n"
     ]
    },
    {
     "name": "stderr",
     "output_type": "stream",
     "text": [
      "  3%|▎         | 4222/130238 [29:22<9:16:10,  3.78it/s]"
     ]
    },
    {
     "name": "stdout",
     "output_type": "stream",
     "text": [
      "Error retrieving coordinates for PJE. QUILLAY 1485 POBLACION BOSQUE OCALINDO CON LOS LLEUQUES EL CERRO ANGOL: Value after * must be an iterable, not Exception\n",
      "Error retrieving coordinates for PJE. QUILLAY 1485 POBLACION BOSQUE OCALINDO CON LOS LLEUQUES CERRO PASAJE ANGOL: Value after * must be an iterable, not Exception\n"
     ]
    },
    {
     "name": "stderr",
     "output_type": "stream",
     "text": [
      "  3%|▎         | 4224/130238 [29:23<12:07:05,  2.89it/s]"
     ]
    },
    {
     "name": "stdout",
     "output_type": "stream",
     "text": [
      "Error retrieving coordinates for PJE. QUILLAY 1485 POBLACION BOSQUE DE LOS LLEUQUES HACIA CERRO PRIMER ANGOL: Value after * must be an iterable, not Exception\n"
     ]
    },
    {
     "name": "stderr",
     "output_type": "stream",
     "text": [
      "  3%|▎         | 4225/130238 [29:24<13:07:02,  2.67it/s]"
     ]
    },
    {
     "name": "stdout",
     "output_type": "stream",
     "text": [
      "Error retrieving coordinates for PJE. QUILLAY 1485 POBLACION BOSQUE OCALINDO CON LOS HACIA EL PRIMER PASAJE: Value after * must be an iterable, not Exception\n"
     ]
    },
    {
     "name": "stderr",
     "output_type": "stream",
     "text": [
      "  3%|▎         | 4226/130238 [29:24<13:39:18,  2.56it/s]"
     ]
    },
    {
     "name": "stdout",
     "output_type": "stream",
     "text": [
      "Error retrieving coordinates for PJE. QUILLAY 1485 POBLACION BOSQUE OCALINDO CON LOS LLEUQUES HACIA EL PRIMER: Value after * must be an iterable, not Exception\n"
     ]
    },
    {
     "name": "stderr",
     "output_type": "stream",
     "text": [
      "  3%|▎         | 4227/130238 [29:25<22:40:12,  1.54it/s]"
     ]
    },
    {
     "name": "stdout",
     "output_type": "stream",
     "text": [
      "Error retrieving coordinates for PJE. QUILLAY 1485 POBLACION BOSQUE OCALINDO CON LOS LLEUQUES CERRO PRIMER PASAJE: Value after * must be an iterable, not Exception\n"
     ]
    },
    {
     "name": "stderr",
     "output_type": "stream",
     "text": [
      "  3%|▎         | 4228/130238 [29:26<23:05:33,  1.52it/s]"
     ]
    },
    {
     "name": "stdout",
     "output_type": "stream",
     "text": [
      "Error retrieving coordinates for PJE. QUILLAY 1485 POBLACION BOSQUE DE LOS HACIA CERRO PRIMER PASAJE ANGOL: Value after * must be an iterable, not ConnectTimeout\n",
      "Error retrieving coordinates for PJE. QUILLAY 1485 POBLACION BOSQUE OCALINDO CON LOS HACIA EL CERRO ANGOL: Value after * must be an iterable, not Exception\n"
     ]
    },
    {
     "name": "stderr",
     "output_type": "stream",
     "text": [
      "  3%|▎         | 4230/130238 [29:26<15:53:03,  2.20it/s]"
     ]
    },
    {
     "name": "stdout",
     "output_type": "stream",
     "text": [
      "Error retrieving coordinates for PJE. QUILLAY 1485 POBLACION BOSQUE OCALINDO CON LOS HACIA CERRO PRIMER ANGOL: Value after * must be an iterable, not Exception\n",
      "Error retrieving coordinates for PJE. QUILLAY 1485 POBLACION BOSQUE OCALINDO CON LOS HACIA EL PASAJE ANGOL: Value after * must be an iterable, not Exception\n"
     ]
    },
    {
     "name": "stderr",
     "output_type": "stream",
     "text": [
      "  3%|▎         | 4233/130238 [29:27<11:52:10,  2.95it/s]"
     ]
    },
    {
     "name": "stdout",
     "output_type": "stream",
     "text": [
      "Error retrieving coordinates for PJE. QUILLAY 1485 POBLACION BOSQUE DE LLEUQUES HACIA EL CERRO PASAJE ANGOL: Value after * must be an iterable, not ConnectTimeout\n",
      "Error retrieving coordinates for PJE. QUILLAY 1485 POBLACION BOSQUE OCALINDO CON LOS HACIA EL CERRO PASAJE: Value after * must be an iterable, not Exception\n"
     ]
    },
    {
     "name": "stderr",
     "output_type": "stream",
     "text": [
      "  3%|▎         | 4234/130238 [29:28<13:28:14,  2.60it/s]"
     ]
    },
    {
     "name": "stdout",
     "output_type": "stream",
     "text": [
      "Error retrieving coordinates for PJE. QUILLAY 1485 POBLACION BOSQUE OCALINDO CON LOS HACIA CERRO PRIMER PASAJE: Value after * must be an iterable, not Exception\n"
     ]
    },
    {
     "name": "stderr",
     "output_type": "stream",
     "text": [
      "  3%|▎         | 4236/130238 [29:29<16:10:20,  2.16it/s]"
     ]
    },
    {
     "name": "stdout",
     "output_type": "stream",
     "text": [
      "Error retrieving coordinates for PJE. QUILLAY 1485 POBLACION BOSQUE OCALINDO CON LLEUQUES HACIA EL CERRO ANGOL: Value after * must be an iterable, not Exception\n",
      "Error retrieving coordinates for PJE. QUILLAY 1485 POBLACION BOSQUE OCALINDO CON LOS HACIA CERRO PASAJE ANGOL: Value after * must be an iterable, not Exception\n",
      "Error retrieving coordinates for PJE. QUILLAY 1485 POBLACION BOSQUE DE LLEUQUES EL CERRO PRIMER PASAJE ANGOL: Value after * must be an iterable, not ConnectTimeout\n"
     ]
    },
    {
     "name": "stderr",
     "output_type": "stream",
     "text": [
      "  3%|▎         | 4241/130238 [29:29<7:04:49,  4.94it/s] "
     ]
    },
    {
     "name": "stdout",
     "output_type": "stream",
     "text": [
      "Error retrieving coordinates for PJE. QUILLAY 1485 POBLACION BOSQUE OCALINDO CON LOS HACIA PRIMER PASAJE ANGOL: Value after * must be an iterable, not Exception\n",
      "Error retrieving coordinates for PJE. QUILLAY 1485 POBLACION BOSQUE OCALINDO CON LOS LLEUQUES EL PASAJE ANGOL: Value after * must be an iterable, not Exception\n",
      "Error retrieving coordinates for PJE. QUILLAY 1485 POBLACION BOSQUE OCALINDO CON LOS LLEUQUES HACIA PASAJE ANGOL: Value after * must be an iterable, not Exception\n",
      "Error retrieving coordinates for PJE. QUILLAY 1485 POBLACION BOSQUE DE LOS LLEUQUES EL CERRO PASAJE ANGOL: Value after * must be an iterable, not Exception\n"
     ]
    },
    {
     "name": "stderr",
     "output_type": "stream",
     "text": [
      "  3%|▎         | 4242/130238 [29:30<11:18:54,  3.09it/s]"
     ]
    },
    {
     "name": "stdout",
     "output_type": "stream",
     "text": [
      "Error retrieving coordinates for PJE. QUILLAY 1485 POBLACION BOSQUE OCALINDO CON LOS EL PRIMER PASAJE ANGOL: Value after * must be an iterable, not Exception\n"
     ]
    },
    {
     "name": "stderr",
     "output_type": "stream",
     "text": [
      "  3%|▎         | 4242/130238 [29:31<14:36:53,  2.39it/s]"
     ]
    },
    {
     "name": "stdout",
     "output_type": "stream",
     "text": [
      "Error retrieving coordinates for PJE. QUILLAY 1485 POBLACION BOSQUE DE HACIA EL CERRO PRIMER PASAJE ANGOL: Value after * must be an iterable, not Exception\n"
     ]
    },
    {
     "name": "stderr",
     "output_type": "stream",
     "text": [
      "\n"
     ]
    },
    {
     "name": "stdout",
     "output_type": "stream",
     "text": [
      "Error retrieving coordinates for PJE. QUILLAY 1485 POBLACION BOSQUE OCALINDO CON LLEUQUES HACIA PRIMER PASAJE ANGOL: Value after * must be an iterable, not Exception\n",
      "Error retrieving coordinates for PJE. QUILLAY 1485 POBLACION BOSQUE OCALINDO CON LOS EL CERRO PRIMER PASAJE: Value after * must be an iterable, not Exception\n",
      "Error retrieving coordinates for PJE. QUILLAY 1485 POBLACION BOSQUE DE LOS LLEUQUES HACIA EL PASAJE ANGOL: Value after * must be an iterable, not Exception\n",
      "Error retrieving coordinates for PJE. QUILLAY 1485 POBLACION BOSQUE OCALINDO CON LLEUQUES HACIA EL PRIMER PASAJE: Value after * must be an iterable, not Exception\n",
      "Error retrieving coordinates for PJE. QUILLAY 1485 POBLACION BOSQUE OCALINDO CON LLEUQUES HACIA EL PASAJE ANGOL: Value after * must be an iterable, not Exception\n",
      "Error retrieving coordinates for PJE. QUILLAY 1485 POBLACION BOSQUE OCALINDO CON LLEUQUES HACIA EL CERRO PASAJE: Value after * must be an iterable, not Exception\n",
      "Error retrieving coordinates for PJE. QUILLAY 1485 POBLACION BOSQUE OCALINDO CON LOS LLEUQUES EL CERRO PASAJE: Value after * must be an iterable, not ConnectTimeout\n",
      "Error retrieving coordinates for PJE. QUILLAY 1485 POBLACION BOSQUE OCALINDO CON LOS LLEUQUES EL PRIMER PASAJE: Value after * must be an iterable, not ConnectTimeout\n",
      "Error retrieving coordinates for PJE. QUILLAY 1485 POBLACION BOSQUE OCALINDO CON LLEUQUES CERRO PRIMER PASAJE ANGOL: Value after * must be an iterable, not Exception\n",
      "Error retrieving coordinates for PJE. QUILLAY 1485 POBLACION BOSQUE OCALINDO CON HACIA EL PRIMER PASAJE ANGOL: Value after * must be an iterable, not Exception\n",
      "Error retrieving coordinates for PJE. QUILLAY 1485 POBLACION BOSQUE OCALINDO CON LOS LLEUQUES CERRO PRIMER ANGOL: Value after * must be an iterable, not Exception\n",
      "Error retrieving coordinates for PJE. QUILLAY 1485 POBLACION BOSQUE OCALINDO CON LOS HACIA EL PRIMER ANGOL: Value after * must be an iterable, not Exception\n",
      "Error retrieving coordinates for PJE. QUILLAY 1485 POBLACION BOSQUE OCALINDO CON LLEUQUES EL CERRO PASAJE ANGOL: Value after * must be an iterable, not Exception\n",
      "Error retrieving coordinates for PJE. QUILLAY 1485 POBLACION BOSQUE OCALINDO LOS LLEUQUES HACIA EL CERRO PASAJE: Value after * must be an iterable, not Exception\n",
      "Error retrieving coordinates for PJE. QUILLAY 1485 POBLACION BOSQUE OCALINDO CON LLEUQUES EL CERRO PRIMER PASAJE: Value after * must be an iterable, not Exception\n",
      "Error retrieving coordinates for PJE. QUILLAY 1485 POBLACION BOSQUE OCALINDO CON HACIA CERRO PRIMER PASAJE ANGOL: Value after * must be an iterable, not Exception\n",
      "Error retrieving coordinates for PJE. QUILLAY 1485 POBLACION BOSQUE OCALINDO LOS LLEUQUES HACIA EL CERRO ANGOL: Value after * must be an iterable, not Exception\n",
      "Error retrieving coordinates for PJE. QUILLAY 1485 POBLACION BOSQUE OCALINDO CON LOS CERRO PRIMER PASAJE ANGOL: Value after * must be an iterable, not Exception\n",
      "Error retrieving coordinates for PJE. QUILLAY 1485 POBLACION BOSQUE OCALINDO CON LLEUQUES EL PRIMER PASAJE ANGOL: Value after * must be an iterable, not Exception\n",
      "Error retrieving coordinates for PJE. QUILLAY 1485 POBLACION BOSQUE OCALINDO LOS LLEUQUES HACIA EL PASAJE ANGOL: Value after * must be an iterable, not Exception\n",
      "Error retrieving coordinates for PJE. QUILLAY 1485 POBLACION BOSQUE OCALINDO CON LLEUQUES EL CERRO PRIMER ANGOL: Value after * must be an iterable, not Exception\n",
      "Error retrieving coordinates for PJE. QUILLAY 1485 POBLACION BOSQUE OCALINDO CON LLEUQUES HACIA CERRO PASAJE ANGOL: Value after * must be an iterable, not Exception\n",
      "Error retrieving coordinates for PJE. QUILLAY 1485 POBLACION BOSQUE OCALINDO CON HACIA EL CERRO PRIMER PASAJE: Value after * must be an iterable, not Exception\n",
      "Error retrieving coordinates for PJE. QUILLAY 1485 POBLACION BOSQUE OCALINDO LOS LLEUQUES HACIA CERRO PASAJE ANGOL: Value after * must be an iterable, not Exception\n",
      "Error retrieving coordinates for PJE. QUILLAY 1485 POBLACION BOSQUE OCALINDO LOS LLEUQUES HACIA EL PRIMER PASAJE: Value after * must be an iterable, not Exception\n",
      "Error retrieving coordinates for PJE. QUILLAY 1485 POBLACION BOSQUE OCALINDO LOS LLEUQUES HACIA EL CERRO PRIMER: Value after * must be an iterable, not Exception\n",
      "Error retrieving coordinates for PJE. QUILLAY 1485 POBLACION BOSQUE OCALINDO LOS LLEUQUES HACIA PRIMER PASAJE ANGOL: Value after * must be an iterable, not Exception\n",
      "Error retrieving coordinates for PJE. QUILLAY 1485 POBLACION BOSQUE OCALINDO LOS LLEUQUES EL CERRO PRIMER ANGOL: Value after * must be an iterable, not Exception\n",
      "Error retrieving coordinates for PJE. QUILLAY 1485 POBLACION BOSQUE OCALINDO CON EL CERRO PRIMER PASAJE ANGOL: Value after * must be an iterable, not Exception\n",
      "Error retrieving coordinates for PJE. QUILLAY 1485 POBLACION BOSQUE OCALINDO LOS LLEUQUES EL CERRO PRIMER PASAJE: Value after * must be an iterable, not Exception\n",
      "Error retrieving coordinates for PJE. QUILLAY 1485 POBLACION BOSQUE OCALINDO CON LLEUQUES HACIA EL PRIMER ANGOL: Value after * must be an iterable, not Exception\n"
     ]
    }
   ],
   "source": [
    "for index, row in df.iterrows():\n",
    "    row[[\"NUEVA DIRECCION\", \"X\", \"Y\"]] = validate_address(row[\"DIRECCION DE DOMICILIO\"] + \" \" + row[\"COMUNA DOMICILIO\"])"
   ]
  },
  {
   "cell_type": "code",
   "execution_count": null,
   "metadata": {},
   "outputs": [],
   "source": [
    "df[[\"NUEVA DIRECCION\", \"X\", \"Y\"]] = df.apply(lambda row: validate_address(row[\"DIRECCION DE DOMICILIO\"] + \" \" + row[\"COMUNA DOMICILIO\"]), axis=1).apply(pd.Series)\n"
   ]
  }
 ],
 "metadata": {
  "kernelspec": {
   "display_name": "Python 3",
   "language": "python",
   "name": "python3"
  },
  "language_info": {
   "codemirror_mode": {
    "name": "ipython",
    "version": 3
   },
   "file_extension": ".py",
   "mimetype": "text/x-python",
   "name": "python",
   "nbconvert_exporter": "python",
   "pygments_lexer": "ipython3",
   "version": "3.12.2"
  }
 },
 "nbformat": 4,
 "nbformat_minor": 2
}
